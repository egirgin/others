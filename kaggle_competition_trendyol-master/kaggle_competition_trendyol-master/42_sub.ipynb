{
  "cells": [
    {
      "metadata": {
        "_uuid": "8f2839f25d086af736a60e9eeb907d3b93b6e0e5",
        "_cell_guid": "b1076dfc-b9ad-4769-8c92-a6c4dae69d19",
        "trusted": true
      },
      "cell_type": "code",
      "source": "# This Python 3 environment comes with many helpful analytics libraries installed\n# It is defined by the kaggle/python docker image: https://github.com/kaggle/docker-python\n# For example, here's several helpful packages to load in \n\nimport numpy as np # linear algebra\nimport pandas as pd # data processing, CSV file I/O (e.g. pd.read_csv)\n\n# Input data files are available in the \"../input/\" directory.\n# For example, running this (by clicking run or pressing Shift+Enter) will list the files in the input directory\n\nimport os\nprint(os.listdir(\"../input\"))\n\n# Any results you write to the current directory are saved as output.",
      "execution_count": 1,
      "outputs": [
        {
          "output_type": "stream",
          "text": "['trendyol-project', 'combined-data-trendyol']\n",
          "name": "stdout"
        }
      ]
    },
    {
      "metadata": {
        "trusted": true,
        "_uuid": "99665d34098d8a1687fe13aebfd356bbf4af126e"
      },
      "cell_type": "code",
      "source": "combined = pd.read_csv('../input/combined-data-trendyol/combined_data.csv')\ncombined = combined.drop('Unnamed: 0', axis=1)\ncombined.head()",
      "execution_count": 2,
      "outputs": [
        {
          "output_type": "execute_result",
          "execution_count": 2,
          "data": {
            "text/plain": "   productid  gender  color  ...   clickcount  favoredcount  week\n0          2       1    476  ...         10.0           0.0     3\n1          2       1    476  ...          0.0           0.0     3\n2          2       1    476  ...          1.0           0.0     3\n3          2       1    476  ...          1.0           0.0     3\n4         15       2    476  ...          1.0           0.0     4\n\n[5 rows x 12 columns]",
            "text/html": "<div>\n<style scoped>\n    .dataframe tbody tr th:only-of-type {\n        vertical-align: middle;\n    }\n\n    .dataframe tbody tr th {\n        vertical-align: top;\n    }\n\n    .dataframe thead th {\n        text-align: right;\n    }\n</style>\n<table border=\"1\" class=\"dataframe\">\n  <thead>\n    <tr style=\"text-align: right;\">\n      <th></th>\n      <th>productid</th>\n      <th>gender</th>\n      <th>color</th>\n      <th>categoryid</th>\n      <th>brandid</th>\n      <th>subcategoryid</th>\n      <th>price</th>\n      <th>soldquantity</th>\n      <th>stock</th>\n      <th>clickcount</th>\n      <th>favoredcount</th>\n      <th>week</th>\n    </tr>\n  </thead>\n  <tbody>\n    <tr>\n      <th>0</th>\n      <td>2</td>\n      <td>1</td>\n      <td>476</td>\n      <td>938</td>\n      <td>603</td>\n      <td>83</td>\n      <td>827</td>\n      <td>1</td>\n      <td>60</td>\n      <td>10.0</td>\n      <td>0.0</td>\n      <td>3</td>\n    </tr>\n    <tr>\n      <th>1</th>\n      <td>2</td>\n      <td>1</td>\n      <td>476</td>\n      <td>938</td>\n      <td>603</td>\n      <td>83</td>\n      <td>827</td>\n      <td>0</td>\n      <td>59</td>\n      <td>0.0</td>\n      <td>0.0</td>\n      <td>3</td>\n    </tr>\n    <tr>\n      <th>2</th>\n      <td>2</td>\n      <td>1</td>\n      <td>476</td>\n      <td>938</td>\n      <td>603</td>\n      <td>83</td>\n      <td>827</td>\n      <td>0</td>\n      <td>60</td>\n      <td>1.0</td>\n      <td>0.0</td>\n      <td>3</td>\n    </tr>\n    <tr>\n      <th>3</th>\n      <td>2</td>\n      <td>1</td>\n      <td>476</td>\n      <td>938</td>\n      <td>603</td>\n      <td>83</td>\n      <td>827</td>\n      <td>0</td>\n      <td>60</td>\n      <td>1.0</td>\n      <td>0.0</td>\n      <td>3</td>\n    </tr>\n    <tr>\n      <th>4</th>\n      <td>15</td>\n      <td>2</td>\n      <td>476</td>\n      <td>407</td>\n      <td>1113</td>\n      <td>20</td>\n      <td>923</td>\n      <td>0</td>\n      <td>0</td>\n      <td>1.0</td>\n      <td>0.0</td>\n      <td>4</td>\n    </tr>\n  </tbody>\n</table>\n</div>"
          },
          "metadata": {}
        }
      ]
    },
    {
      "metadata": {
        "trusted": true,
        "_uuid": "b949ee91c59dc57bd21d38cf102f4aa828a92eca"
      },
      "cell_type": "code",
      "source": "products = pd.read_csv('../input/trendyol-project/product.csv')\nproducts.head()",
      "execution_count": 3,
      "outputs": [
        {
          "output_type": "execute_result",
          "execution_count": 3,
          "data": {
            "text/plain": "   productid  gender  color  categoryid  brandid  subcategoryid  price\n0          2       1    476         938      603             83    827\n1         15       2    476         407     1113             20    923\n2         21       2   1886         407     1113             20   1100\n3         39       2    435         432      458             29   1851\n4         43       2    476         407      458             20   1571",
            "text/html": "<div>\n<style scoped>\n    .dataframe tbody tr th:only-of-type {\n        vertical-align: middle;\n    }\n\n    .dataframe tbody tr th {\n        vertical-align: top;\n    }\n\n    .dataframe thead th {\n        text-align: right;\n    }\n</style>\n<table border=\"1\" class=\"dataframe\">\n  <thead>\n    <tr style=\"text-align: right;\">\n      <th></th>\n      <th>productid</th>\n      <th>gender</th>\n      <th>color</th>\n      <th>categoryid</th>\n      <th>brandid</th>\n      <th>subcategoryid</th>\n      <th>price</th>\n    </tr>\n  </thead>\n  <tbody>\n    <tr>\n      <th>0</th>\n      <td>2</td>\n      <td>1</td>\n      <td>476</td>\n      <td>938</td>\n      <td>603</td>\n      <td>83</td>\n      <td>827</td>\n    </tr>\n    <tr>\n      <th>1</th>\n      <td>15</td>\n      <td>2</td>\n      <td>476</td>\n      <td>407</td>\n      <td>1113</td>\n      <td>20</td>\n      <td>923</td>\n    </tr>\n    <tr>\n      <th>2</th>\n      <td>21</td>\n      <td>2</td>\n      <td>1886</td>\n      <td>407</td>\n      <td>1113</td>\n      <td>20</td>\n      <td>1100</td>\n    </tr>\n    <tr>\n      <th>3</th>\n      <td>39</td>\n      <td>2</td>\n      <td>435</td>\n      <td>432</td>\n      <td>458</td>\n      <td>29</td>\n      <td>1851</td>\n    </tr>\n    <tr>\n      <th>4</th>\n      <td>43</td>\n      <td>2</td>\n      <td>476</td>\n      <td>407</td>\n      <td>458</td>\n      <td>20</td>\n      <td>1571</td>\n    </tr>\n  </tbody>\n</table>\n</div>"
          },
          "metadata": {}
        }
      ]
    },
    {
      "metadata": {
        "trusted": true,
        "_uuid": "6adad1f0691b61eb2e25e688887984307591cead"
      },
      "cell_type": "code",
      "source": "combined['week'].unique()",
      "execution_count": 4,
      "outputs": [
        {
          "output_type": "execute_result",
          "execution_count": 4,
          "data": {
            "text/plain": "array([3, 4, 1, 0, 7, 5, 6, 8, 9, 2])"
          },
          "metadata": {}
        }
      ]
    },
    {
      "metadata": {
        "trusted": true,
        "_uuid": "0b12c16e8c2dee28f30ff6cc8ee90af0ffe69d63"
      },
      "cell_type": "code",
      "source": "\"\"\"criteria = combined['week'] == 3\nweek3 = combined[criteria]\nprint(week3.shape)\nweek3.head()\"\"\"",
      "execution_count": 5,
      "outputs": [
        {
          "output_type": "execute_result",
          "execution_count": 5,
          "data": {
            "text/plain": "\"criteria = combined['week'] == 3\\nweek3 = combined[criteria]\\nprint(week3.shape)\\nweek3.head()\""
          },
          "metadata": {}
        }
      ]
    },
    {
      "metadata": {
        "trusted": true,
        "_uuid": "f069088aa52ebd1b5e49041eb5b2dbf241554c4f"
      },
      "cell_type": "code",
      "source": "\"\"\"week3_group = week3.groupby('productid')['clickcount','favoredcount', 'soldquantity'].sum()\nweek3_group = week3_group.reset_index()\nweek3_group['heat'] = week3.groupby('productid')['soldquantity'].sum()/week3.groupby('productid')['stock'].mean()\nweek3_group = week3_group.fillna(0)\nweek3_group.head()\"\"\"",
      "execution_count": 6,
      "outputs": [
        {
          "output_type": "execute_result",
          "execution_count": 6,
          "data": {
            "text/plain": "\"week3_group = week3.groupby('productid')['clickcount','favoredcount', 'soldquantity'].sum()\\nweek3_group = week3_group.reset_index()\\nweek3_group['heat'] = week3.groupby('productid')['soldquantity'].sum()/week3.groupby('productid')['stock'].mean()\\nweek3_group = week3_group.fillna(0)\\nweek3_group.head()\""
          },
          "metadata": {}
        }
      ]
    },
    {
      "metadata": {
        "trusted": true,
        "_uuid": "c95a20358dccdcc96a16525f7af871f4d3759569"
      },
      "cell_type": "code",
      "source": "criteria9 = combined['week'] == 9 \nweek9 = combined[criteria9] #testy # sadece 9. hafta\nfirst8 = combined[~criteria9] #testX # ilk 8 hafta",
      "execution_count": 7,
      "outputs": []
    },
    {
      "metadata": {
        "trusted": true,
        "_uuid": "c94ea7f8be8939ebc6f13693cc20eea8a4d4d709"
      },
      "cell_type": "code",
      "source": "criteria8 = first8['week'] == 8\nweek8 = first8[criteria8] #trainy # sadece 8.hafta\ntrain = first8[~criteria8] #trainX #ilk 7 hafta",
      "execution_count": 8,
      "outputs": []
    },
    {
      "metadata": {
        "trusted": true,
        "_uuid": "961f6859c91ff697d7baade3a81830c43a511b3e"
      },
      "cell_type": "code",
      "source": "train['week'].unique()",
      "execution_count": 9,
      "outputs": [
        {
          "output_type": "execute_result",
          "execution_count": 9,
          "data": {
            "text/plain": "array([3, 4, 1, 0, 7, 5, 6, 2])"
          },
          "metadata": {}
        }
      ]
    },
    {
      "metadata": {
        "trusted": true,
        "_uuid": "d2d1e3a39fce57847614e30c975568a75c683cb7"
      },
      "cell_type": "code",
      "source": "week9_group = week9.groupby('productid')['clickcount','favoredcount', 'soldquantity'].sum()\nweek9_group = week9_group.reset_index()\nweek9_group['heat'] = week9.groupby('productid')['soldquantity'].sum()/week9.groupby('productid')['stock'].mean()\nweek9_group = week9_group.fillna(0)\nweek9_group = week9_group.sort_values('productid')\nweek9_group.head()",
      "execution_count": 10,
      "outputs": [
        {
          "output_type": "execute_result",
          "execution_count": 10,
          "data": {
            "text/plain": "   productid  clickcount  favoredcount  soldquantity  heat\n0          9        30.0           0.0             0   0.0\n1         12        10.0           0.0             0   0.0\n2         14        16.0           0.0             0   0.0\n3         21        21.0           2.0             0   0.0\n4         25        10.0           1.0             0   0.0",
            "text/html": "<div>\n<style scoped>\n    .dataframe tbody tr th:only-of-type {\n        vertical-align: middle;\n    }\n\n    .dataframe tbody tr th {\n        vertical-align: top;\n    }\n\n    .dataframe thead th {\n        text-align: right;\n    }\n</style>\n<table border=\"1\" class=\"dataframe\">\n  <thead>\n    <tr style=\"text-align: right;\">\n      <th></th>\n      <th>productid</th>\n      <th>clickcount</th>\n      <th>favoredcount</th>\n      <th>soldquantity</th>\n      <th>heat</th>\n    </tr>\n  </thead>\n  <tbody>\n    <tr>\n      <th>0</th>\n      <td>9</td>\n      <td>30.0</td>\n      <td>0.0</td>\n      <td>0</td>\n      <td>0.0</td>\n    </tr>\n    <tr>\n      <th>1</th>\n      <td>12</td>\n      <td>10.0</td>\n      <td>0.0</td>\n      <td>0</td>\n      <td>0.0</td>\n    </tr>\n    <tr>\n      <th>2</th>\n      <td>14</td>\n      <td>16.0</td>\n      <td>0.0</td>\n      <td>0</td>\n      <td>0.0</td>\n    </tr>\n    <tr>\n      <th>3</th>\n      <td>21</td>\n      <td>21.0</td>\n      <td>2.0</td>\n      <td>0</td>\n      <td>0.0</td>\n    </tr>\n    <tr>\n      <th>4</th>\n      <td>25</td>\n      <td>10.0</td>\n      <td>1.0</td>\n      <td>0</td>\n      <td>0.0</td>\n    </tr>\n  </tbody>\n</table>\n</div>"
          },
          "metadata": {}
        }
      ]
    },
    {
      "metadata": {
        "trusted": true,
        "_uuid": "4e433822fab0b219bc4db8c3c46720f874fafe0f"
      },
      "cell_type": "code",
      "source": "week9_group = week9_group.merge(products, left_on='productid', right_on='productid')\nweek9_group = week9_group.sort_values(by='productid')\nweek9_group.head()",
      "execution_count": 11,
      "outputs": [
        {
          "output_type": "execute_result",
          "execution_count": 11,
          "data": {
            "text/plain": "   productid  clickcount  favoredcount  ...    brandid  subcategoryid  price\n0          9        30.0           0.0  ...       1113             20   1100\n1         12        10.0           0.0  ...       1113             20   1421\n2         14        16.0           0.0  ...       1113             20    923\n3         21        21.0           2.0  ...       1113             20   1100\n4         25        10.0           1.0  ...       1113             20   1268\n\n[5 rows x 11 columns]",
            "text/html": "<div>\n<style scoped>\n    .dataframe tbody tr th:only-of-type {\n        vertical-align: middle;\n    }\n\n    .dataframe tbody tr th {\n        vertical-align: top;\n    }\n\n    .dataframe thead th {\n        text-align: right;\n    }\n</style>\n<table border=\"1\" class=\"dataframe\">\n  <thead>\n    <tr style=\"text-align: right;\">\n      <th></th>\n      <th>productid</th>\n      <th>clickcount</th>\n      <th>favoredcount</th>\n      <th>soldquantity</th>\n      <th>heat</th>\n      <th>gender</th>\n      <th>color</th>\n      <th>categoryid</th>\n      <th>brandid</th>\n      <th>subcategoryid</th>\n      <th>price</th>\n    </tr>\n  </thead>\n  <tbody>\n    <tr>\n      <th>0</th>\n      <td>9</td>\n      <td>30.0</td>\n      <td>0.0</td>\n      <td>0</td>\n      <td>0.0</td>\n      <td>2</td>\n      <td>5415</td>\n      <td>407</td>\n      <td>1113</td>\n      <td>20</td>\n      <td>1100</td>\n    </tr>\n    <tr>\n      <th>1</th>\n      <td>12</td>\n      <td>10.0</td>\n      <td>0.0</td>\n      <td>0</td>\n      <td>0.0</td>\n      <td>2</td>\n      <td>5409</td>\n      <td>407</td>\n      <td>1113</td>\n      <td>20</td>\n      <td>1421</td>\n    </tr>\n    <tr>\n      <th>2</th>\n      <td>14</td>\n      <td>16.0</td>\n      <td>0.0</td>\n      <td>0</td>\n      <td>0.0</td>\n      <td>2</td>\n      <td>3501</td>\n      <td>407</td>\n      <td>1113</td>\n      <td>20</td>\n      <td>923</td>\n    </tr>\n    <tr>\n      <th>3</th>\n      <td>21</td>\n      <td>21.0</td>\n      <td>2.0</td>\n      <td>0</td>\n      <td>0.0</td>\n      <td>2</td>\n      <td>1886</td>\n      <td>407</td>\n      <td>1113</td>\n      <td>20</td>\n      <td>1100</td>\n    </tr>\n    <tr>\n      <th>4</th>\n      <td>25</td>\n      <td>10.0</td>\n      <td>1.0</td>\n      <td>0</td>\n      <td>0.0</td>\n      <td>2</td>\n      <td>5409</td>\n      <td>407</td>\n      <td>1113</td>\n      <td>20</td>\n      <td>1268</td>\n    </tr>\n  </tbody>\n</table>\n</div>"
          },
          "metadata": {}
        }
      ]
    },
    {
      "metadata": {
        "trusted": true,
        "_uuid": "4271d8d04c0d8251a7d4e231b340d4a79f6ae643"
      },
      "cell_type": "code",
      "source": "week9_group.shape",
      "execution_count": 12,
      "outputs": [
        {
          "output_type": "execute_result",
          "execution_count": 12,
          "data": {
            "text/plain": "(129702, 11)"
          },
          "metadata": {}
        }
      ]
    },
    {
      "metadata": {
        "trusted": true,
        "_uuid": "74436a12ba66e0ec80f6c9d97caf3157e4b1a1d7"
      },
      "cell_type": "code",
      "source": "week8_group = week8.groupby('productid')['clickcount','favoredcount', 'soldquantity'].sum()\nweek8_group = week8_group.reset_index()\nweek8_group['heat'] = week8.groupby('productid')['soldquantity'].sum()/week8.groupby('productid')['stock'].mean()\nweek8_group = week8_group.fillna(0)\nweek8_group = week8_group.sort_values('productid')\nweek8_group.head()",
      "execution_count": 13,
      "outputs": [
        {
          "output_type": "execute_result",
          "execution_count": 13,
          "data": {
            "text/plain": "   productid  clickcount  favoredcount  soldquantity  heat\n0          9        23.0           2.0             0   0.0\n1         12        25.0           0.0             1   0.0\n2         21        22.0           2.0             0   0.0\n3         25        13.0           0.0             0   0.0\n4         28         0.0           0.0             0   0.0",
            "text/html": "<div>\n<style scoped>\n    .dataframe tbody tr th:only-of-type {\n        vertical-align: middle;\n    }\n\n    .dataframe tbody tr th {\n        vertical-align: top;\n    }\n\n    .dataframe thead th {\n        text-align: right;\n    }\n</style>\n<table border=\"1\" class=\"dataframe\">\n  <thead>\n    <tr style=\"text-align: right;\">\n      <th></th>\n      <th>productid</th>\n      <th>clickcount</th>\n      <th>favoredcount</th>\n      <th>soldquantity</th>\n      <th>heat</th>\n    </tr>\n  </thead>\n  <tbody>\n    <tr>\n      <th>0</th>\n      <td>9</td>\n      <td>23.0</td>\n      <td>2.0</td>\n      <td>0</td>\n      <td>0.0</td>\n    </tr>\n    <tr>\n      <th>1</th>\n      <td>12</td>\n      <td>25.0</td>\n      <td>0.0</td>\n      <td>1</td>\n      <td>0.0</td>\n    </tr>\n    <tr>\n      <th>2</th>\n      <td>21</td>\n      <td>22.0</td>\n      <td>2.0</td>\n      <td>0</td>\n      <td>0.0</td>\n    </tr>\n    <tr>\n      <th>3</th>\n      <td>25</td>\n      <td>13.0</td>\n      <td>0.0</td>\n      <td>0</td>\n      <td>0.0</td>\n    </tr>\n    <tr>\n      <th>4</th>\n      <td>28</td>\n      <td>0.0</td>\n      <td>0.0</td>\n      <td>0</td>\n      <td>0.0</td>\n    </tr>\n  </tbody>\n</table>\n</div>"
          },
          "metadata": {}
        }
      ]
    },
    {
      "metadata": {
        "trusted": true,
        "_uuid": "267850a5592d4ffb47b315ecd5c3f7edef3b1a34"
      },
      "cell_type": "code",
      "source": "week8_group = week8_group.merge(products, left_on='productid', right_on='productid')\nweek8_group = week8_group.sort_values(by='productid')\nweek8_group.head()",
      "execution_count": 14,
      "outputs": [
        {
          "output_type": "execute_result",
          "execution_count": 14,
          "data": {
            "text/plain": "   productid  clickcount  favoredcount  ...    brandid  subcategoryid  price\n0          9        23.0           2.0  ...       1113             20   1100\n1         12        25.0           0.0  ...       1113             20   1421\n2         21        22.0           2.0  ...       1113             20   1100\n3         25        13.0           0.0  ...       1113             20   1268\n4         28         0.0           0.0  ...       1113             20   1268\n\n[5 rows x 11 columns]",
            "text/html": "<div>\n<style scoped>\n    .dataframe tbody tr th:only-of-type {\n        vertical-align: middle;\n    }\n\n    .dataframe tbody tr th {\n        vertical-align: top;\n    }\n\n    .dataframe thead th {\n        text-align: right;\n    }\n</style>\n<table border=\"1\" class=\"dataframe\">\n  <thead>\n    <tr style=\"text-align: right;\">\n      <th></th>\n      <th>productid</th>\n      <th>clickcount</th>\n      <th>favoredcount</th>\n      <th>soldquantity</th>\n      <th>heat</th>\n      <th>gender</th>\n      <th>color</th>\n      <th>categoryid</th>\n      <th>brandid</th>\n      <th>subcategoryid</th>\n      <th>price</th>\n    </tr>\n  </thead>\n  <tbody>\n    <tr>\n      <th>0</th>\n      <td>9</td>\n      <td>23.0</td>\n      <td>2.0</td>\n      <td>0</td>\n      <td>0.0</td>\n      <td>2</td>\n      <td>5415</td>\n      <td>407</td>\n      <td>1113</td>\n      <td>20</td>\n      <td>1100</td>\n    </tr>\n    <tr>\n      <th>1</th>\n      <td>12</td>\n      <td>25.0</td>\n      <td>0.0</td>\n      <td>1</td>\n      <td>0.0</td>\n      <td>2</td>\n      <td>5409</td>\n      <td>407</td>\n      <td>1113</td>\n      <td>20</td>\n      <td>1421</td>\n    </tr>\n    <tr>\n      <th>2</th>\n      <td>21</td>\n      <td>22.0</td>\n      <td>2.0</td>\n      <td>0</td>\n      <td>0.0</td>\n      <td>2</td>\n      <td>1886</td>\n      <td>407</td>\n      <td>1113</td>\n      <td>20</td>\n      <td>1100</td>\n    </tr>\n    <tr>\n      <th>3</th>\n      <td>25</td>\n      <td>13.0</td>\n      <td>0.0</td>\n      <td>0</td>\n      <td>0.0</td>\n      <td>2</td>\n      <td>5409</td>\n      <td>407</td>\n      <td>1113</td>\n      <td>20</td>\n      <td>1268</td>\n    </tr>\n    <tr>\n      <th>4</th>\n      <td>28</td>\n      <td>0.0</td>\n      <td>0.0</td>\n      <td>0</td>\n      <td>0.0</td>\n      <td>2</td>\n      <td>5825</td>\n      <td>407</td>\n      <td>1113</td>\n      <td>20</td>\n      <td>1268</td>\n    </tr>\n  </tbody>\n</table>\n</div>"
          },
          "metadata": {}
        }
      ]
    },
    {
      "metadata": {
        "trusted": true,
        "_uuid": "8815cc3a227b168fa36d96bb85b288b230b9f595"
      },
      "cell_type": "code",
      "source": "week8_group.shape",
      "execution_count": 15,
      "outputs": [
        {
          "output_type": "execute_result",
          "execution_count": 15,
          "data": {
            "text/plain": "(131691, 11)"
          },
          "metadata": {}
        }
      ]
    },
    {
      "metadata": {
        "_uuid": "948f0fcd4056e8ba85f226c63415117f31b93dda"
      },
      "cell_type": "markdown",
      "source": "**---------------prepare submission data-------------------------**"
    },
    {
      "metadata": {
        "trusted": true,
        "_uuid": "b345b77b05d35e0de6ab7f884ae2b27c1b221087"
      },
      "cell_type": "code",
      "source": "submission = pd.read_csv('../input/trendyol-project/SampleSubmission.csv')\nsubmission.head()",
      "execution_count": 16,
      "outputs": [
        {
          "output_type": "execute_result",
          "execution_count": 16,
          "data": {
            "text/plain": "   productid  sales\n0         50    NaN\n1         65    NaN\n2         67    NaN\n3         77    NaN\n4         90    NaN",
            "text/html": "<div>\n<style scoped>\n    .dataframe tbody tr th:only-of-type {\n        vertical-align: middle;\n    }\n\n    .dataframe tbody tr th {\n        vertical-align: top;\n    }\n\n    .dataframe thead th {\n        text-align: right;\n    }\n</style>\n<table border=\"1\" class=\"dataframe\">\n  <thead>\n    <tr style=\"text-align: right;\">\n      <th></th>\n      <th>productid</th>\n      <th>sales</th>\n    </tr>\n  </thead>\n  <tbody>\n    <tr>\n      <th>0</th>\n      <td>50</td>\n      <td>NaN</td>\n    </tr>\n    <tr>\n      <th>1</th>\n      <td>65</td>\n      <td>NaN</td>\n    </tr>\n    <tr>\n      <th>2</th>\n      <td>67</td>\n      <td>NaN</td>\n    </tr>\n    <tr>\n      <th>3</th>\n      <td>77</td>\n      <td>NaN</td>\n    </tr>\n    <tr>\n      <th>4</th>\n      <td>90</td>\n      <td>NaN</td>\n    </tr>\n  </tbody>\n</table>\n</div>"
          },
          "metadata": {}
        }
      ]
    },
    {
      "metadata": {
        "trusted": true,
        "_uuid": "e96da0cc53178c5733250d9e74b30602b1592502"
      },
      "cell_type": "code",
      "source": "all_group = combined.groupby('productid')['clickcount','favoredcount', 'soldquantity'].sum()\nall_group = all_group.reset_index()\nall_group['heat'] = combined.groupby('productid')['soldquantity'].sum()/combined.groupby('productid')['stock'].mean()\nall_group = all_group.fillna(0)\nall_group = all_group.sort_values('productid')\nall_group.head()",
      "execution_count": 17,
      "outputs": [
        {
          "output_type": "execute_result",
          "execution_count": 17,
          "data": {
            "text/plain": "   productid  clickcount  favoredcount  soldquantity      heat\n0          1       276.0           0.0             3  0.000000\n1          2        12.0           0.0             1  0.017241\n2          3        34.0           0.0             2  0.016736\n3          4       282.0           0.0             7  0.016097\n4          5       418.0           0.0             1  0.037787",
            "text/html": "<div>\n<style scoped>\n    .dataframe tbody tr th:only-of-type {\n        vertical-align: middle;\n    }\n\n    .dataframe tbody tr th {\n        vertical-align: top;\n    }\n\n    .dataframe thead th {\n        text-align: right;\n    }\n</style>\n<table border=\"1\" class=\"dataframe\">\n  <thead>\n    <tr style=\"text-align: right;\">\n      <th></th>\n      <th>productid</th>\n      <th>clickcount</th>\n      <th>favoredcount</th>\n      <th>soldquantity</th>\n      <th>heat</th>\n    </tr>\n  </thead>\n  <tbody>\n    <tr>\n      <th>0</th>\n      <td>1</td>\n      <td>276.0</td>\n      <td>0.0</td>\n      <td>3</td>\n      <td>0.000000</td>\n    </tr>\n    <tr>\n      <th>1</th>\n      <td>2</td>\n      <td>12.0</td>\n      <td>0.0</td>\n      <td>1</td>\n      <td>0.017241</td>\n    </tr>\n    <tr>\n      <th>2</th>\n      <td>3</td>\n      <td>34.0</td>\n      <td>0.0</td>\n      <td>2</td>\n      <td>0.016736</td>\n    </tr>\n    <tr>\n      <th>3</th>\n      <td>4</td>\n      <td>282.0</td>\n      <td>0.0</td>\n      <td>7</td>\n      <td>0.016097</td>\n    </tr>\n    <tr>\n      <th>4</th>\n      <td>5</td>\n      <td>418.0</td>\n      <td>0.0</td>\n      <td>1</td>\n      <td>0.037787</td>\n    </tr>\n  </tbody>\n</table>\n</div>"
          },
          "metadata": {}
        }
      ]
    },
    {
      "metadata": {
        "trusted": true,
        "_uuid": "9052cc41916fa2b3ad6c2242b55fcca17609a1ce"
      },
      "cell_type": "code",
      "source": "all_dropped = all_group[all_group['productid'].isin(submission['productid'].tolist())]\nprint(submission.shape)\nprint(all_dropped.shape)\nall_dropped.head()",
      "execution_count": 18,
      "outputs": [
        {
          "output_type": "stream",
          "text": "(12810, 2)\n(12810, 5)\n",
          "name": "stdout"
        },
        {
          "output_type": "execute_result",
          "execution_count": 18,
          "data": {
            "text/plain": "    productid  clickcount  favoredcount  soldquantity      heat\n46         50      8941.0         236.0            31  2.361905\n60         65       768.0          23.0             2  1.418182\n62         67      3277.0          98.0            14  1.856905\n72         77     23309.0         219.0            32  0.196319\n84         90      8169.0          56.0            12  0.941176",
            "text/html": "<div>\n<style scoped>\n    .dataframe tbody tr th:only-of-type {\n        vertical-align: middle;\n    }\n\n    .dataframe tbody tr th {\n        vertical-align: top;\n    }\n\n    .dataframe thead th {\n        text-align: right;\n    }\n</style>\n<table border=\"1\" class=\"dataframe\">\n  <thead>\n    <tr style=\"text-align: right;\">\n      <th></th>\n      <th>productid</th>\n      <th>clickcount</th>\n      <th>favoredcount</th>\n      <th>soldquantity</th>\n      <th>heat</th>\n    </tr>\n  </thead>\n  <tbody>\n    <tr>\n      <th>46</th>\n      <td>50</td>\n      <td>8941.0</td>\n      <td>236.0</td>\n      <td>31</td>\n      <td>2.361905</td>\n    </tr>\n    <tr>\n      <th>60</th>\n      <td>65</td>\n      <td>768.0</td>\n      <td>23.0</td>\n      <td>2</td>\n      <td>1.418182</td>\n    </tr>\n    <tr>\n      <th>62</th>\n      <td>67</td>\n      <td>3277.0</td>\n      <td>98.0</td>\n      <td>14</td>\n      <td>1.856905</td>\n    </tr>\n    <tr>\n      <th>72</th>\n      <td>77</td>\n      <td>23309.0</td>\n      <td>219.0</td>\n      <td>32</td>\n      <td>0.196319</td>\n    </tr>\n    <tr>\n      <th>84</th>\n      <td>90</td>\n      <td>8169.0</td>\n      <td>56.0</td>\n      <td>12</td>\n      <td>0.941176</td>\n    </tr>\n  </tbody>\n</table>\n</div>"
          },
          "metadata": {}
        }
      ]
    },
    {
      "metadata": {
        "trusted": true,
        "_uuid": "991ef8a63b94c8f5ef3690725d98da720547a8f7"
      },
      "cell_type": "code",
      "source": "all_dropped = all_dropped.fillna(0)\nall_dropped.isna().sum()",
      "execution_count": 19,
      "outputs": [
        {
          "output_type": "execute_result",
          "execution_count": 19,
          "data": {
            "text/plain": "productid       0\nclickcount      0\nfavoredcount    0\nsoldquantity    0\nheat            0\ndtype: int64"
          },
          "metadata": {}
        }
      ]
    },
    {
      "metadata": {
        "_uuid": "1ce5dcc44529c83f6350f5b76f3f6f363c712e4c"
      },
      "cell_type": "markdown",
      "source": "**----------CREATING TEST DATA-------------**"
    },
    {
      "metadata": {
        "trusted": true,
        "_uuid": "7226e8d525683730a3f72dc3e9795b935c345c4d"
      },
      "cell_type": "code",
      "source": "test_group = first8.groupby('productid')['clickcount','favoredcount', 'soldquantity'].sum()\ntest_group = test_group.reset_index()\ntest_group['heat'] = first8.groupby('productid')['soldquantity'].sum()/first8.groupby('productid')['stock'].mean()\ntest_group = test_group.fillna(0)\ntest_group.head()",
      "execution_count": 20,
      "outputs": [
        {
          "output_type": "execute_result",
          "execution_count": 20,
          "data": {
            "text/plain": "   productid  clickcount  favoredcount  soldquantity      heat\n0          1       276.0           0.0             3  0.000000\n1          2        12.0           0.0             1  0.017241\n2          3        34.0           0.0             2  0.016736\n3          4       282.0           0.0             7  0.016097\n4          5       418.0           0.0             1  0.037787",
            "text/html": "<div>\n<style scoped>\n    .dataframe tbody tr th:only-of-type {\n        vertical-align: middle;\n    }\n\n    .dataframe tbody tr th {\n        vertical-align: top;\n    }\n\n    .dataframe thead th {\n        text-align: right;\n    }\n</style>\n<table border=\"1\" class=\"dataframe\">\n  <thead>\n    <tr style=\"text-align: right;\">\n      <th></th>\n      <th>productid</th>\n      <th>clickcount</th>\n      <th>favoredcount</th>\n      <th>soldquantity</th>\n      <th>heat</th>\n    </tr>\n  </thead>\n  <tbody>\n    <tr>\n      <th>0</th>\n      <td>1</td>\n      <td>276.0</td>\n      <td>0.0</td>\n      <td>3</td>\n      <td>0.000000</td>\n    </tr>\n    <tr>\n      <th>1</th>\n      <td>2</td>\n      <td>12.0</td>\n      <td>0.0</td>\n      <td>1</td>\n      <td>0.017241</td>\n    </tr>\n    <tr>\n      <th>2</th>\n      <td>3</td>\n      <td>34.0</td>\n      <td>0.0</td>\n      <td>2</td>\n      <td>0.016736</td>\n    </tr>\n    <tr>\n      <th>3</th>\n      <td>4</td>\n      <td>282.0</td>\n      <td>0.0</td>\n      <td>7</td>\n      <td>0.016097</td>\n    </tr>\n    <tr>\n      <th>4</th>\n      <td>5</td>\n      <td>418.0</td>\n      <td>0.0</td>\n      <td>1</td>\n      <td>0.037787</td>\n    </tr>\n  </tbody>\n</table>\n</div>"
          },
          "metadata": {}
        }
      ]
    },
    {
      "metadata": {
        "trusted": true,
        "_uuid": "43d61ffd0864dbfde65082288173cf813bd66fd2"
      },
      "cell_type": "code",
      "source": "test_group = test_group.merge(products, left_on='productid', right_on='productid')\ntest_group.head()",
      "execution_count": 21,
      "outputs": [
        {
          "output_type": "execute_result",
          "execution_count": 21,
          "data": {
            "text/plain": "   productid  clickcount  favoredcount  ...    brandid  subcategoryid  price\n0          1       276.0           0.0  ...        603             20   1996\n1          2        12.0           0.0  ...        603             83    827\n2          3        34.0           0.0  ...        603             83    956\n3          4       282.0           0.0  ...        603             20   1927\n4          5       418.0           0.0  ...       1113             20   1268\n\n[5 rows x 11 columns]",
            "text/html": "<div>\n<style scoped>\n    .dataframe tbody tr th:only-of-type {\n        vertical-align: middle;\n    }\n\n    .dataframe tbody tr th {\n        vertical-align: top;\n    }\n\n    .dataframe thead th {\n        text-align: right;\n    }\n</style>\n<table border=\"1\" class=\"dataframe\">\n  <thead>\n    <tr style=\"text-align: right;\">\n      <th></th>\n      <th>productid</th>\n      <th>clickcount</th>\n      <th>favoredcount</th>\n      <th>soldquantity</th>\n      <th>heat</th>\n      <th>gender</th>\n      <th>color</th>\n      <th>categoryid</th>\n      <th>brandid</th>\n      <th>subcategoryid</th>\n      <th>price</th>\n    </tr>\n  </thead>\n  <tbody>\n    <tr>\n      <th>0</th>\n      <td>1</td>\n      <td>276.0</td>\n      <td>0.0</td>\n      <td>3</td>\n      <td>0.000000</td>\n      <td>1</td>\n      <td>1328</td>\n      <td>407</td>\n      <td>603</td>\n      <td>20</td>\n      <td>1996</td>\n    </tr>\n    <tr>\n      <th>1</th>\n      <td>2</td>\n      <td>12.0</td>\n      <td>0.0</td>\n      <td>1</td>\n      <td>0.017241</td>\n      <td>1</td>\n      <td>476</td>\n      <td>938</td>\n      <td>603</td>\n      <td>83</td>\n      <td>827</td>\n    </tr>\n    <tr>\n      <th>2</th>\n      <td>3</td>\n      <td>34.0</td>\n      <td>0.0</td>\n      <td>2</td>\n      <td>0.016736</td>\n      <td>1</td>\n      <td>440</td>\n      <td>938</td>\n      <td>603</td>\n      <td>83</td>\n      <td>956</td>\n    </tr>\n    <tr>\n      <th>3</th>\n      <td>4</td>\n      <td>282.0</td>\n      <td>0.0</td>\n      <td>7</td>\n      <td>0.016097</td>\n      <td>1</td>\n      <td>447</td>\n      <td>407</td>\n      <td>603</td>\n      <td>20</td>\n      <td>1927</td>\n    </tr>\n    <tr>\n      <th>4</th>\n      <td>5</td>\n      <td>418.0</td>\n      <td>0.0</td>\n      <td>1</td>\n      <td>0.037787</td>\n      <td>2</td>\n      <td>5415</td>\n      <td>407</td>\n      <td>1113</td>\n      <td>20</td>\n      <td>1268</td>\n    </tr>\n  </tbody>\n</table>\n</div>"
          },
          "metadata": {}
        }
      ]
    },
    {
      "metadata": {
        "trusted": true,
        "_uuid": "341f3f96aa48b0f2f54a50c45d6b61cd6fdc2e9a"
      },
      "cell_type": "code",
      "source": "test_group = test_group.drop(columns=['gender','color','categoryid',\n                                       'brandid', 'subcategoryid',\n                                       'price'])",
      "execution_count": 22,
      "outputs": []
    },
    {
      "metadata": {
        "trusted": true,
        "_uuid": "8d24b3026ddd8f8afd791a3a844fa6b3f66d6ba7"
      },
      "cell_type": "code",
      "source": "week9_group = week9_group.drop(columns=['gender','color','categoryid',\n                                       'brandid', 'subcategoryid',\n                                       'price'])",
      "execution_count": 23,
      "outputs": []
    },
    {
      "metadata": {
        "trusted": true,
        "_uuid": "e57b69783dcb3a96f247f9260709ee433a61d1e6"
      },
      "cell_type": "code",
      "source": "week9_dropped = week9_group[week9_group['productid'].isin(test_group['productid'].tolist())] #sadece 9.haftada satilan... \nweek9_dropped = week9_dropped.sort_values(by='productid')                   #...ürünleri dropla",
      "execution_count": 24,
      "outputs": []
    },
    {
      "metadata": {
        "trusted": true,
        "_uuid": "122d4ec0877dc55653a16d5181b31d12f8b8efcd"
      },
      "cell_type": "code",
      "source": "#ilk 8 haftada satılıp 9da satılmayanları bul\nnotsold_week9 = test_group[np.logical_not(test_group['productid'].isin(week9_dropped['productid'].tolist()))]\n#bunların solquantitylerini 0 yap\nnotsold_week9['soldquantity'] = 0\nweek9_dropped_added = week9_dropped.append(notsold_week9)\nweek9_dropped_added = week9_dropped_added.sort_values(by='productid')\nprint(week9_dropped_added.shape) # testy\nprint(test_group.shape) #testX\nweek9_dropped_added.head()",
      "execution_count": 25,
      "outputs": [
        {
          "output_type": "stream",
          "text": "(192658, 5)\n(192658, 5)\n",
          "name": "stdout"
        },
        {
          "output_type": "stream",
          "text": "/opt/conda/lib/python3.6/site-packages/ipykernel_launcher.py:4: SettingWithCopyWarning: \nA value is trying to be set on a copy of a slice from a DataFrame.\nTry using .loc[row_indexer,col_indexer] = value instead\n\nSee the caveats in the documentation: http://pandas.pydata.org/pandas-docs/stable/indexing.html#indexing-view-versus-copy\n  after removing the cwd from sys.path.\n",
          "name": "stderr"
        },
        {
          "output_type": "execute_result",
          "execution_count": 25,
          "data": {
            "text/plain": "   productid  clickcount  favoredcount  soldquantity      heat\n0          1       276.0           0.0             0  0.000000\n1          2        12.0           0.0             0  0.017241\n2          3        34.0           0.0             0  0.016736\n3          4       282.0           0.0             0  0.016097\n4          5       418.0           0.0             0  0.037787",
            "text/html": "<div>\n<style scoped>\n    .dataframe tbody tr th:only-of-type {\n        vertical-align: middle;\n    }\n\n    .dataframe tbody tr th {\n        vertical-align: top;\n    }\n\n    .dataframe thead th {\n        text-align: right;\n    }\n</style>\n<table border=\"1\" class=\"dataframe\">\n  <thead>\n    <tr style=\"text-align: right;\">\n      <th></th>\n      <th>productid</th>\n      <th>clickcount</th>\n      <th>favoredcount</th>\n      <th>soldquantity</th>\n      <th>heat</th>\n    </tr>\n  </thead>\n  <tbody>\n    <tr>\n      <th>0</th>\n      <td>1</td>\n      <td>276.0</td>\n      <td>0.0</td>\n      <td>0</td>\n      <td>0.000000</td>\n    </tr>\n    <tr>\n      <th>1</th>\n      <td>2</td>\n      <td>12.0</td>\n      <td>0.0</td>\n      <td>0</td>\n      <td>0.017241</td>\n    </tr>\n    <tr>\n      <th>2</th>\n      <td>3</td>\n      <td>34.0</td>\n      <td>0.0</td>\n      <td>0</td>\n      <td>0.016736</td>\n    </tr>\n    <tr>\n      <th>3</th>\n      <td>4</td>\n      <td>282.0</td>\n      <td>0.0</td>\n      <td>0</td>\n      <td>0.016097</td>\n    </tr>\n    <tr>\n      <th>4</th>\n      <td>5</td>\n      <td>418.0</td>\n      <td>0.0</td>\n      <td>0</td>\n      <td>0.037787</td>\n    </tr>\n  </tbody>\n</table>\n</div>"
          },
          "metadata": {}
        }
      ]
    },
    {
      "metadata": {
        "trusted": true,
        "_uuid": "cf53322c871f1c373fcae12b8d9ba8fcccc88ac2",
        "scrolled": true
      },
      "cell_type": "code",
      "source": "test_X = test_group\ntest_y = week9_dropped_added['soldquantity']\ntest_X.head()",
      "execution_count": 26,
      "outputs": [
        {
          "output_type": "execute_result",
          "execution_count": 26,
          "data": {
            "text/plain": "   productid  clickcount  favoredcount  soldquantity      heat\n0          1       276.0           0.0             3  0.000000\n1          2        12.0           0.0             1  0.017241\n2          3        34.0           0.0             2  0.016736\n3          4       282.0           0.0             7  0.016097\n4          5       418.0           0.0             1  0.037787",
            "text/html": "<div>\n<style scoped>\n    .dataframe tbody tr th:only-of-type {\n        vertical-align: middle;\n    }\n\n    .dataframe tbody tr th {\n        vertical-align: top;\n    }\n\n    .dataframe thead th {\n        text-align: right;\n    }\n</style>\n<table border=\"1\" class=\"dataframe\">\n  <thead>\n    <tr style=\"text-align: right;\">\n      <th></th>\n      <th>productid</th>\n      <th>clickcount</th>\n      <th>favoredcount</th>\n      <th>soldquantity</th>\n      <th>heat</th>\n    </tr>\n  </thead>\n  <tbody>\n    <tr>\n      <th>0</th>\n      <td>1</td>\n      <td>276.0</td>\n      <td>0.0</td>\n      <td>3</td>\n      <td>0.000000</td>\n    </tr>\n    <tr>\n      <th>1</th>\n      <td>2</td>\n      <td>12.0</td>\n      <td>0.0</td>\n      <td>1</td>\n      <td>0.017241</td>\n    </tr>\n    <tr>\n      <th>2</th>\n      <td>3</td>\n      <td>34.0</td>\n      <td>0.0</td>\n      <td>2</td>\n      <td>0.016736</td>\n    </tr>\n    <tr>\n      <th>3</th>\n      <td>4</td>\n      <td>282.0</td>\n      <td>0.0</td>\n      <td>7</td>\n      <td>0.016097</td>\n    </tr>\n    <tr>\n      <th>4</th>\n      <td>5</td>\n      <td>418.0</td>\n      <td>0.0</td>\n      <td>1</td>\n      <td>0.037787</td>\n    </tr>\n  </tbody>\n</table>\n</div>"
          },
          "metadata": {}
        }
      ]
    },
    {
      "metadata": {
        "_uuid": "73059fc97ca5d99a574b9ec6997421c8866e1d95"
      },
      "cell_type": "markdown",
      "source": "testX= test_X\n>\ntesty = test_y"
    },
    {
      "metadata": {
        "_uuid": "1d55cb7c75fb2b4c321c1380cb03c76c059455cd"
      },
      "cell_type": "markdown",
      "source": "**-------------------CREATING TRAIN DATA------------------------**"
    },
    {
      "metadata": {
        "trusted": true,
        "_uuid": "50f90053c4df9d1cce858510c2f2343c0e2f998a"
      },
      "cell_type": "code",
      "source": "train_group = train.groupby('productid')['clickcount','favoredcount', 'soldquantity'].sum()\ntrain_group = train_group.reset_index()\ntrain_group['heat'] = train.groupby('productid')['soldquantity'].sum()/train.groupby('productid')['stock'].mean()\ntrain_group = train_group.fillna(0)\ntrain_group.head()",
      "execution_count": 27,
      "outputs": [
        {
          "output_type": "execute_result",
          "execution_count": 27,
          "data": {
            "text/plain": "   productid  clickcount  favoredcount  soldquantity      heat\n0          1       276.0           0.0             3  0.000000\n1          2        12.0           0.0             1  0.017241\n2          3        34.0           0.0             2  0.016736\n3          4       282.0           0.0             7  0.016097\n4          5       418.0           0.0             1  0.037787",
            "text/html": "<div>\n<style scoped>\n    .dataframe tbody tr th:only-of-type {\n        vertical-align: middle;\n    }\n\n    .dataframe tbody tr th {\n        vertical-align: top;\n    }\n\n    .dataframe thead th {\n        text-align: right;\n    }\n</style>\n<table border=\"1\" class=\"dataframe\">\n  <thead>\n    <tr style=\"text-align: right;\">\n      <th></th>\n      <th>productid</th>\n      <th>clickcount</th>\n      <th>favoredcount</th>\n      <th>soldquantity</th>\n      <th>heat</th>\n    </tr>\n  </thead>\n  <tbody>\n    <tr>\n      <th>0</th>\n      <td>1</td>\n      <td>276.0</td>\n      <td>0.0</td>\n      <td>3</td>\n      <td>0.000000</td>\n    </tr>\n    <tr>\n      <th>1</th>\n      <td>2</td>\n      <td>12.0</td>\n      <td>0.0</td>\n      <td>1</td>\n      <td>0.017241</td>\n    </tr>\n    <tr>\n      <th>2</th>\n      <td>3</td>\n      <td>34.0</td>\n      <td>0.0</td>\n      <td>2</td>\n      <td>0.016736</td>\n    </tr>\n    <tr>\n      <th>3</th>\n      <td>4</td>\n      <td>282.0</td>\n      <td>0.0</td>\n      <td>7</td>\n      <td>0.016097</td>\n    </tr>\n    <tr>\n      <th>4</th>\n      <td>5</td>\n      <td>418.0</td>\n      <td>0.0</td>\n      <td>1</td>\n      <td>0.037787</td>\n    </tr>\n  </tbody>\n</table>\n</div>"
          },
          "metadata": {}
        }
      ]
    },
    {
      "metadata": {
        "trusted": true,
        "_uuid": "60d9c4327f65211615fae3da0da99355d840e7f6"
      },
      "cell_type": "code",
      "source": "train_group = train_group.merge(products, left_on='productid', right_on='productid')\ntrain_group.head()",
      "execution_count": 28,
      "outputs": [
        {
          "output_type": "execute_result",
          "execution_count": 28,
          "data": {
            "text/plain": "   productid  clickcount  favoredcount  ...    brandid  subcategoryid  price\n0          1       276.0           0.0  ...        603             20   1996\n1          2        12.0           0.0  ...        603             83    827\n2          3        34.0           0.0  ...        603             83    956\n3          4       282.0           0.0  ...        603             20   1927\n4          5       418.0           0.0  ...       1113             20   1268\n\n[5 rows x 11 columns]",
            "text/html": "<div>\n<style scoped>\n    .dataframe tbody tr th:only-of-type {\n        vertical-align: middle;\n    }\n\n    .dataframe tbody tr th {\n        vertical-align: top;\n    }\n\n    .dataframe thead th {\n        text-align: right;\n    }\n</style>\n<table border=\"1\" class=\"dataframe\">\n  <thead>\n    <tr style=\"text-align: right;\">\n      <th></th>\n      <th>productid</th>\n      <th>clickcount</th>\n      <th>favoredcount</th>\n      <th>soldquantity</th>\n      <th>heat</th>\n      <th>gender</th>\n      <th>color</th>\n      <th>categoryid</th>\n      <th>brandid</th>\n      <th>subcategoryid</th>\n      <th>price</th>\n    </tr>\n  </thead>\n  <tbody>\n    <tr>\n      <th>0</th>\n      <td>1</td>\n      <td>276.0</td>\n      <td>0.0</td>\n      <td>3</td>\n      <td>0.000000</td>\n      <td>1</td>\n      <td>1328</td>\n      <td>407</td>\n      <td>603</td>\n      <td>20</td>\n      <td>1996</td>\n    </tr>\n    <tr>\n      <th>1</th>\n      <td>2</td>\n      <td>12.0</td>\n      <td>0.0</td>\n      <td>1</td>\n      <td>0.017241</td>\n      <td>1</td>\n      <td>476</td>\n      <td>938</td>\n      <td>603</td>\n      <td>83</td>\n      <td>827</td>\n    </tr>\n    <tr>\n      <th>2</th>\n      <td>3</td>\n      <td>34.0</td>\n      <td>0.0</td>\n      <td>2</td>\n      <td>0.016736</td>\n      <td>1</td>\n      <td>440</td>\n      <td>938</td>\n      <td>603</td>\n      <td>83</td>\n      <td>956</td>\n    </tr>\n    <tr>\n      <th>3</th>\n      <td>4</td>\n      <td>282.0</td>\n      <td>0.0</td>\n      <td>7</td>\n      <td>0.016097</td>\n      <td>1</td>\n      <td>447</td>\n      <td>407</td>\n      <td>603</td>\n      <td>20</td>\n      <td>1927</td>\n    </tr>\n    <tr>\n      <th>4</th>\n      <td>5</td>\n      <td>418.0</td>\n      <td>0.0</td>\n      <td>1</td>\n      <td>0.037787</td>\n      <td>2</td>\n      <td>5415</td>\n      <td>407</td>\n      <td>1113</td>\n      <td>20</td>\n      <td>1268</td>\n    </tr>\n  </tbody>\n</table>\n</div>"
          },
          "metadata": {}
        }
      ]
    },
    {
      "metadata": {
        "trusted": true,
        "_uuid": "1ac39627cc6103119557d4bfd1b11ad5ac4c0168"
      },
      "cell_type": "code",
      "source": "train_group = train_group.drop(columns=['gender','color','categoryid',\n                                       'brandid', 'subcategoryid',\n                                       'price'])",
      "execution_count": 29,
      "outputs": []
    },
    {
      "metadata": {
        "trusted": true,
        "_uuid": "cb1727a09b140912cf8e46fb33a1c87d4dc982a3"
      },
      "cell_type": "code",
      "source": "week8_group = week8_group.drop(columns=['gender','color','categoryid',\n                                       'brandid', 'subcategoryid',\n                                       'price'])",
      "execution_count": 30,
      "outputs": []
    },
    {
      "metadata": {
        "trusted": true,
        "_uuid": "eb2908a8d58ae8f8a20060a62af8f8c55b09d5a6"
      },
      "cell_type": "code",
      "source": "week8_dropped = week8_group[week8_group['productid'].isin(train_group['productid'].tolist())] #sadece 8.haftada satilan... \nweek8_dropped = week8_dropped.sort_values(by='productid')                   #...ürünleri dropla\nprint(week8_dropped.shape)\nprint(train_group.shape)\nweek8_dropped.head()",
      "execution_count": 31,
      "outputs": [
        {
          "output_type": "stream",
          "text": "(129397, 5)\n(190364, 5)\n",
          "name": "stdout"
        },
        {
          "output_type": "execute_result",
          "execution_count": 31,
          "data": {
            "text/plain": "   productid  clickcount  favoredcount  soldquantity  heat\n0          9        23.0           2.0             0   0.0\n1         12        25.0           0.0             1   0.0\n2         21        22.0           2.0             0   0.0\n3         25        13.0           0.0             0   0.0\n4         28         0.0           0.0             0   0.0",
            "text/html": "<div>\n<style scoped>\n    .dataframe tbody tr th:only-of-type {\n        vertical-align: middle;\n    }\n\n    .dataframe tbody tr th {\n        vertical-align: top;\n    }\n\n    .dataframe thead th {\n        text-align: right;\n    }\n</style>\n<table border=\"1\" class=\"dataframe\">\n  <thead>\n    <tr style=\"text-align: right;\">\n      <th></th>\n      <th>productid</th>\n      <th>clickcount</th>\n      <th>favoredcount</th>\n      <th>soldquantity</th>\n      <th>heat</th>\n    </tr>\n  </thead>\n  <tbody>\n    <tr>\n      <th>0</th>\n      <td>9</td>\n      <td>23.0</td>\n      <td>2.0</td>\n      <td>0</td>\n      <td>0.0</td>\n    </tr>\n    <tr>\n      <th>1</th>\n      <td>12</td>\n      <td>25.0</td>\n      <td>0.0</td>\n      <td>1</td>\n      <td>0.0</td>\n    </tr>\n    <tr>\n      <th>2</th>\n      <td>21</td>\n      <td>22.0</td>\n      <td>2.0</td>\n      <td>0</td>\n      <td>0.0</td>\n    </tr>\n    <tr>\n      <th>3</th>\n      <td>25</td>\n      <td>13.0</td>\n      <td>0.0</td>\n      <td>0</td>\n      <td>0.0</td>\n    </tr>\n    <tr>\n      <th>4</th>\n      <td>28</td>\n      <td>0.0</td>\n      <td>0.0</td>\n      <td>0</td>\n      <td>0.0</td>\n    </tr>\n  </tbody>\n</table>\n</div>"
          },
          "metadata": {}
        }
      ]
    },
    {
      "metadata": {
        "trusted": true,
        "_uuid": "fdf2f5572f7d8ce5b871cc8101e6066502ffd771"
      },
      "cell_type": "code",
      "source": "#train_y = week8_dropped['soldquantity'] #8. haftanin satilanlari\ntrain_X = train_group# ilk 7 haftanin verisi\ntrain_X.head()",
      "execution_count": 32,
      "outputs": [
        {
          "output_type": "execute_result",
          "execution_count": 32,
          "data": {
            "text/plain": "   productid  clickcount  favoredcount  soldquantity      heat\n0          1       276.0           0.0             3  0.000000\n1          2        12.0           0.0             1  0.017241\n2          3        34.0           0.0             2  0.016736\n3          4       282.0           0.0             7  0.016097\n4          5       418.0           0.0             1  0.037787",
            "text/html": "<div>\n<style scoped>\n    .dataframe tbody tr th:only-of-type {\n        vertical-align: middle;\n    }\n\n    .dataframe tbody tr th {\n        vertical-align: top;\n    }\n\n    .dataframe thead th {\n        text-align: right;\n    }\n</style>\n<table border=\"1\" class=\"dataframe\">\n  <thead>\n    <tr style=\"text-align: right;\">\n      <th></th>\n      <th>productid</th>\n      <th>clickcount</th>\n      <th>favoredcount</th>\n      <th>soldquantity</th>\n      <th>heat</th>\n    </tr>\n  </thead>\n  <tbody>\n    <tr>\n      <th>0</th>\n      <td>1</td>\n      <td>276.0</td>\n      <td>0.0</td>\n      <td>3</td>\n      <td>0.000000</td>\n    </tr>\n    <tr>\n      <th>1</th>\n      <td>2</td>\n      <td>12.0</td>\n      <td>0.0</td>\n      <td>1</td>\n      <td>0.017241</td>\n    </tr>\n    <tr>\n      <th>2</th>\n      <td>3</td>\n      <td>34.0</td>\n      <td>0.0</td>\n      <td>2</td>\n      <td>0.016736</td>\n    </tr>\n    <tr>\n      <th>3</th>\n      <td>4</td>\n      <td>282.0</td>\n      <td>0.0</td>\n      <td>7</td>\n      <td>0.016097</td>\n    </tr>\n    <tr>\n      <th>4</th>\n      <td>5</td>\n      <td>418.0</td>\n      <td>0.0</td>\n      <td>1</td>\n      <td>0.037787</td>\n    </tr>\n  </tbody>\n</table>\n</div>"
          },
          "metadata": {}
        }
      ]
    },
    {
      "metadata": {
        "trusted": true,
        "_uuid": "0255186c1f87b9790d6e5fb416a63f3ef9b4cb72"
      },
      "cell_type": "code",
      "source": "# ilk 7 haftada satılıp 8de satılmayanları bul\nnotsold_week8 = train_group[np.logical_not(train_group['productid'].isin(week8_dropped['productid'].tolist()))]\n#bunların solquantitylerini 0 yap\nnotsold_week8['soldquantity'] = 0\nweek8_added = week8_dropped.append(notsold_week8)\nweek8_added = week8_added.sort_values(by='productid')\nprint(train_X.shape) \nprint(week8_added.shape)\ntrain_X.head()",
      "execution_count": 33,
      "outputs": [
        {
          "output_type": "stream",
          "text": "(190364, 5)\n(190364, 5)\n",
          "name": "stdout"
        },
        {
          "output_type": "stream",
          "text": "/opt/conda/lib/python3.6/site-packages/ipykernel_launcher.py:4: SettingWithCopyWarning: \nA value is trying to be set on a copy of a slice from a DataFrame.\nTry using .loc[row_indexer,col_indexer] = value instead\n\nSee the caveats in the documentation: http://pandas.pydata.org/pandas-docs/stable/indexing.html#indexing-view-versus-copy\n  after removing the cwd from sys.path.\n",
          "name": "stderr"
        },
        {
          "output_type": "execute_result",
          "execution_count": 33,
          "data": {
            "text/plain": "   productid  clickcount  favoredcount  soldquantity      heat\n0          1       276.0           0.0             3  0.000000\n1          2        12.0           0.0             1  0.017241\n2          3        34.0           0.0             2  0.016736\n3          4       282.0           0.0             7  0.016097\n4          5       418.0           0.0             1  0.037787",
            "text/html": "<div>\n<style scoped>\n    .dataframe tbody tr th:only-of-type {\n        vertical-align: middle;\n    }\n\n    .dataframe tbody tr th {\n        vertical-align: top;\n    }\n\n    .dataframe thead th {\n        text-align: right;\n    }\n</style>\n<table border=\"1\" class=\"dataframe\">\n  <thead>\n    <tr style=\"text-align: right;\">\n      <th></th>\n      <th>productid</th>\n      <th>clickcount</th>\n      <th>favoredcount</th>\n      <th>soldquantity</th>\n      <th>heat</th>\n    </tr>\n  </thead>\n  <tbody>\n    <tr>\n      <th>0</th>\n      <td>1</td>\n      <td>276.0</td>\n      <td>0.0</td>\n      <td>3</td>\n      <td>0.000000</td>\n    </tr>\n    <tr>\n      <th>1</th>\n      <td>2</td>\n      <td>12.0</td>\n      <td>0.0</td>\n      <td>1</td>\n      <td>0.017241</td>\n    </tr>\n    <tr>\n      <th>2</th>\n      <td>3</td>\n      <td>34.0</td>\n      <td>0.0</td>\n      <td>2</td>\n      <td>0.016736</td>\n    </tr>\n    <tr>\n      <th>3</th>\n      <td>4</td>\n      <td>282.0</td>\n      <td>0.0</td>\n      <td>7</td>\n      <td>0.016097</td>\n    </tr>\n    <tr>\n      <th>4</th>\n      <td>5</td>\n      <td>418.0</td>\n      <td>0.0</td>\n      <td>1</td>\n      <td>0.037787</td>\n    </tr>\n  </tbody>\n</table>\n</div>"
          },
          "metadata": {}
        }
      ]
    },
    {
      "metadata": {
        "trusted": true,
        "_uuid": "8f7f2f172ae49bf86fdc834bddaf5047f62d2f64"
      },
      "cell_type": "code",
      "source": "train_y = week8_added['soldquantity']\ntrain_y.head()",
      "execution_count": 34,
      "outputs": [
        {
          "output_type": "execute_result",
          "execution_count": 34,
          "data": {
            "text/plain": "0    0\n1    0\n2    0\n3    0\n4    0\nName: soldquantity, dtype: int64"
          },
          "metadata": {}
        }
      ]
    },
    {
      "metadata": {
        "trusted": true,
        "_uuid": "3b0247a37aa43ceec5df7d22d142786249a69936"
      },
      "cell_type": "code",
      "source": "target_added = train_X\ntarget_added = target_added.assign(target = pd.Series(train_y.values))\ntarget_added.head()",
      "execution_count": 35,
      "outputs": [
        {
          "output_type": "execute_result",
          "execution_count": 35,
          "data": {
            "text/plain": "   productid  clickcount  favoredcount  soldquantity      heat  target\n0          1       276.0           0.0             3  0.000000       0\n1          2        12.0           0.0             1  0.017241       0\n2          3        34.0           0.0             2  0.016736       0\n3          4       282.0           0.0             7  0.016097       0\n4          5       418.0           0.0             1  0.037787       0",
            "text/html": "<div>\n<style scoped>\n    .dataframe tbody tr th:only-of-type {\n        vertical-align: middle;\n    }\n\n    .dataframe tbody tr th {\n        vertical-align: top;\n    }\n\n    .dataframe thead th {\n        text-align: right;\n    }\n</style>\n<table border=\"1\" class=\"dataframe\">\n  <thead>\n    <tr style=\"text-align: right;\">\n      <th></th>\n      <th>productid</th>\n      <th>clickcount</th>\n      <th>favoredcount</th>\n      <th>soldquantity</th>\n      <th>heat</th>\n      <th>target</th>\n    </tr>\n  </thead>\n  <tbody>\n    <tr>\n      <th>0</th>\n      <td>1</td>\n      <td>276.0</td>\n      <td>0.0</td>\n      <td>3</td>\n      <td>0.000000</td>\n      <td>0</td>\n    </tr>\n    <tr>\n      <th>1</th>\n      <td>2</td>\n      <td>12.0</td>\n      <td>0.0</td>\n      <td>1</td>\n      <td>0.017241</td>\n      <td>0</td>\n    </tr>\n    <tr>\n      <th>2</th>\n      <td>3</td>\n      <td>34.0</td>\n      <td>0.0</td>\n      <td>2</td>\n      <td>0.016736</td>\n      <td>0</td>\n    </tr>\n    <tr>\n      <th>3</th>\n      <td>4</td>\n      <td>282.0</td>\n      <td>0.0</td>\n      <td>7</td>\n      <td>0.016097</td>\n      <td>0</td>\n    </tr>\n    <tr>\n      <th>4</th>\n      <td>5</td>\n      <td>418.0</td>\n      <td>0.0</td>\n      <td>1</td>\n      <td>0.037787</td>\n      <td>0</td>\n    </tr>\n  </tbody>\n</table>\n</div>"
          },
          "metadata": {}
        }
      ]
    },
    {
      "metadata": {
        "_uuid": "a335154ca5f9f594ebddf0dacfa684627cfc882e"
      },
      "cell_type": "markdown",
      "source": "trainy = train_y\n>\ntrainX = train_X"
    },
    {
      "metadata": {
        "_uuid": "0e47d6e4b1bb7a67b9cb3d97e7358e56ad22d557"
      },
      "cell_type": "markdown",
      "source": "**--------------------EXAMINE CORRELATIONS--------------------------**"
    },
    {
      "metadata": {
        "trusted": true,
        "_uuid": "91a24d2541c055e9902e50c750d28e6bae6c4215"
      },
      "cell_type": "code",
      "source": "correlations = target_added.corr()['target'].sort_values()\nprint('Most Positive Correlations:\\n', correlations.tail(10))\nprint('\\nMost Negative Correlations:\\n', correlations.head(10))",
      "execution_count": 36,
      "outputs": [
        {
          "output_type": "stream",
          "text": "Most Positive Correlations:\n heat            0.004248\nproductid       0.073044\nclickcount      0.468425\nfavoredcount    0.475159\nsoldquantity    0.530820\ntarget          1.000000\nName: target, dtype: float64\n\nMost Negative Correlations:\n heat            0.004248\nproductid       0.073044\nclickcount      0.468425\nfavoredcount    0.475159\nsoldquantity    0.530820\ntarget          1.000000\nName: target, dtype: float64\n",
          "name": "stdout"
        }
      ]
    },
    {
      "metadata": {
        "trusted": true,
        "_uuid": "b61a0c0808644350f2592ec02051f2ef7aa4afce"
      },
      "cell_type": "code",
      "source": "counts = target_added[['clickcount', 'favoredcount','soldquantity','target']]\ncounts_corr = counts.corr()\ncounts_corr",
      "execution_count": 37,
      "outputs": [
        {
          "output_type": "execute_result",
          "execution_count": 37,
          "data": {
            "text/plain": "              clickcount  favoredcount  soldquantity    target\nclickcount      1.000000      0.824711      0.830696  0.468425\nfavoredcount    0.824711      1.000000      0.695182  0.475159\nsoldquantity    0.830696      0.695182      1.000000  0.530820\ntarget          0.468425      0.475159      0.530820  1.000000",
            "text/html": "<div>\n<style scoped>\n    .dataframe tbody tr th:only-of-type {\n        vertical-align: middle;\n    }\n\n    .dataframe tbody tr th {\n        vertical-align: top;\n    }\n\n    .dataframe thead th {\n        text-align: right;\n    }\n</style>\n<table border=\"1\" class=\"dataframe\">\n  <thead>\n    <tr style=\"text-align: right;\">\n      <th></th>\n      <th>clickcount</th>\n      <th>favoredcount</th>\n      <th>soldquantity</th>\n      <th>target</th>\n    </tr>\n  </thead>\n  <tbody>\n    <tr>\n      <th>clickcount</th>\n      <td>1.000000</td>\n      <td>0.824711</td>\n      <td>0.830696</td>\n      <td>0.468425</td>\n    </tr>\n    <tr>\n      <th>favoredcount</th>\n      <td>0.824711</td>\n      <td>1.000000</td>\n      <td>0.695182</td>\n      <td>0.475159</td>\n    </tr>\n    <tr>\n      <th>soldquantity</th>\n      <td>0.830696</td>\n      <td>0.695182</td>\n      <td>1.000000</td>\n      <td>0.530820</td>\n    </tr>\n    <tr>\n      <th>target</th>\n      <td>0.468425</td>\n      <td>0.475159</td>\n      <td>0.530820</td>\n      <td>1.000000</td>\n    </tr>\n  </tbody>\n</table>\n</div>"
          },
          "metadata": {}
        }
      ]
    },
    {
      "metadata": {
        "trusted": true,
        "_uuid": "c49d96ad6f46cfd67d8611eaf6c98d8f4dc6fe18"
      },
      "cell_type": "code",
      "source": "import matplotlib.pyplot as plt\nimport seaborn as sns\n\nplt.figure(figsize = (8, 6))\n\n# Heatmap of correlations\nsns.heatmap(counts_corr, cmap = plt.cm.RdYlBu_r, vmin = -0.25, annot = True, vmax = 0.6)\nplt.title('Correlation Heatmap');",
      "execution_count": 38,
      "outputs": [
        {
          "output_type": "display_data",
          "data": {
            "text/plain": "<Figure size 576x432 with 2 Axes>",
            "image/png": "[encoded data removed]"
          },
          "metadata": {}
        }
      ]
    },
    {
      "metadata": {
        "_uuid": "55ae066b12f4c6517242354da2a48dccb85025a9"
      },
      "cell_type": "markdown",
      "source": "**--------------CREATE POLYNAMIAL FEATURES---------------------**"
    },
    {
      "metadata": {
        "trusted": true,
        "_uuid": "43336a9384a3a8038b030d45aa04cb1810e78715"
      },
      "cell_type": "code",
      "source": "from sklearn.preprocessing import PolynomialFeatures\n\npoly_transformer = PolynomialFeatures(degree = 3)\n\npoly_features = train_X[['clickcount', 'favoredcount','soldquantity']]\npoly_features_test = test_X[['clickcount', 'favoredcount','soldquantity']]\npoly_features_all = all_dropped[['clickcount','favoredcount','soldquantity']]\n\npoly_transformer.fit(poly_features)\n\npoly_features = poly_transformer.transform(poly_features)\npoly_features_test = poly_transformer.transform(poly_features_test)\npoly_features_all = poly_transformer.transform(poly_features_all)\n\nprint('Polynomial Features shape: ', poly_features.shape)",
      "execution_count": 39,
      "outputs": [
        {
          "output_type": "stream",
          "text": "Polynomial Features shape:  (190364, 20)\n",
          "name": "stdout"
        }
      ]
    },
    {
      "metadata": {
        "trusted": true,
        "_uuid": "45a0719b9567e284b990eb51a4d8e035d3d848f6"
      },
      "cell_type": "code",
      "source": "poly_features = pd.DataFrame(poly_features, columns = poly_transformer.get_feature_names(['clickcount', 'favoredcount','soldquantity']))\npoly_features_test = pd.DataFrame(poly_features_test, columns = poly_transformer.get_feature_names(['clickcount', 'favoredcount','soldquantity']))\npoly_features_all = pd.DataFrame(poly_features_all, columns = poly_transformer.get_feature_names(['clickcount', 'favoredcount','soldquantity']))\n\npoly_features['target'] = target_added['target']\n\npoly_corrs = poly_features.corr()['target'].sort_values()\nprint('best: ',poly_corrs.head(5))\nprint('last', poly_corrs.tail(5))\npoly_features.head()",
      "execution_count": 40,
      "outputs": [
        {
          "output_type": "stream",
          "text": "best:  soldquantity^3                 0.240611\nclickcount soldquantity^2      0.262487\nfavoredcount soldquantity^2    0.262702\nfavoredcount^3                 0.278619\nclickcount^2 soldquantity      0.289205\nName: target, dtype: float64\nlast clickcount      0.468425\nfavoredcount    0.475159\nsoldquantity    0.530820\ntarget          1.000000\n1                    NaN\nName: target, dtype: float64\n",
          "name": "stdout"
        },
        {
          "output_type": "execute_result",
          "execution_count": 40,
          "data": {
            "text/plain": "     1  clickcount   ...    soldquantity^3  target\n0  1.0       276.0   ...              27.0       0\n1  1.0        12.0   ...               1.0       0\n2  1.0        34.0   ...               8.0       0\n3  1.0       282.0   ...             343.0       0\n4  1.0       418.0   ...               1.0       0\n\n[5 rows x 21 columns]",
            "text/html": "<div>\n<style scoped>\n    .dataframe tbody tr th:only-of-type {\n        vertical-align: middle;\n    }\n\n    .dataframe tbody tr th {\n        vertical-align: top;\n    }\n\n    .dataframe thead th {\n        text-align: right;\n    }\n</style>\n<table border=\"1\" class=\"dataframe\">\n  <thead>\n    <tr style=\"text-align: right;\">\n      <th></th>\n      <th>1</th>\n      <th>clickcount</th>\n      <th>favoredcount</th>\n      <th>soldquantity</th>\n      <th>clickcount^2</th>\n      <th>clickcount favoredcount</th>\n      <th>clickcount soldquantity</th>\n      <th>favoredcount^2</th>\n      <th>favoredcount soldquantity</th>\n      <th>soldquantity^2</th>\n      <th>clickcount^3</th>\n      <th>clickcount^2 favoredcount</th>\n      <th>clickcount^2 soldquantity</th>\n      <th>clickcount favoredcount^2</th>\n      <th>clickcount favoredcount soldquantity</th>\n      <th>clickcount soldquantity^2</th>\n      <th>favoredcount^3</th>\n      <th>favoredcount^2 soldquantity</th>\n      <th>favoredcount soldquantity^2</th>\n      <th>soldquantity^3</th>\n      <th>target</th>\n    </tr>\n  </thead>\n  <tbody>\n    <tr>\n      <th>0</th>\n      <td>1.0</td>\n      <td>276.0</td>\n      <td>0.0</td>\n      <td>3.0</td>\n      <td>76176.0</td>\n      <td>0.0</td>\n      <td>828.0</td>\n      <td>0.0</td>\n      <td>0.0</td>\n      <td>9.0</td>\n      <td>21024576.0</td>\n      <td>0.0</td>\n      <td>228528.0</td>\n      <td>0.0</td>\n      <td>0.0</td>\n      <td>2484.0</td>\n      <td>0.0</td>\n      <td>0.0</td>\n      <td>0.0</td>\n      <td>27.0</td>\n      <td>0</td>\n    </tr>\n    <tr>\n      <th>1</th>\n      <td>1.0</td>\n      <td>12.0</td>\n      <td>0.0</td>\n      <td>1.0</td>\n      <td>144.0</td>\n      <td>0.0</td>\n      <td>12.0</td>\n      <td>0.0</td>\n      <td>0.0</td>\n      <td>1.0</td>\n      <td>1728.0</td>\n      <td>0.0</td>\n      <td>144.0</td>\n      <td>0.0</td>\n      <td>0.0</td>\n      <td>12.0</td>\n      <td>0.0</td>\n      <td>0.0</td>\n      <td>0.0</td>\n      <td>1.0</td>\n      <td>0</td>\n    </tr>\n    <tr>\n      <th>2</th>\n      <td>1.0</td>\n      <td>34.0</td>\n      <td>0.0</td>\n      <td>2.0</td>\n      <td>1156.0</td>\n      <td>0.0</td>\n      <td>68.0</td>\n      <td>0.0</td>\n      <td>0.0</td>\n      <td>4.0</td>\n      <td>39304.0</td>\n      <td>0.0</td>\n      <td>2312.0</td>\n      <td>0.0</td>\n      <td>0.0</td>\n      <td>136.0</td>\n      <td>0.0</td>\n      <td>0.0</td>\n      <td>0.0</td>\n      <td>8.0</td>\n      <td>0</td>\n    </tr>\n    <tr>\n      <th>3</th>\n      <td>1.0</td>\n      <td>282.0</td>\n      <td>0.0</td>\n      <td>7.0</td>\n      <td>79524.0</td>\n      <td>0.0</td>\n      <td>1974.0</td>\n      <td>0.0</td>\n      <td>0.0</td>\n      <td>49.0</td>\n      <td>22425768.0</td>\n      <td>0.0</td>\n      <td>556668.0</td>\n      <td>0.0</td>\n      <td>0.0</td>\n      <td>13818.0</td>\n      <td>0.0</td>\n      <td>0.0</td>\n      <td>0.0</td>\n      <td>343.0</td>\n      <td>0</td>\n    </tr>\n    <tr>\n      <th>4</th>\n      <td>1.0</td>\n      <td>418.0</td>\n      <td>0.0</td>\n      <td>1.0</td>\n      <td>174724.0</td>\n      <td>0.0</td>\n      <td>418.0</td>\n      <td>0.0</td>\n      <td>0.0</td>\n      <td>1.0</td>\n      <td>73034632.0</td>\n      <td>0.0</td>\n      <td>174724.0</td>\n      <td>0.0</td>\n      <td>0.0</td>\n      <td>418.0</td>\n      <td>0.0</td>\n      <td>0.0</td>\n      <td>0.0</td>\n      <td>1.0</td>\n      <td>0</td>\n    </tr>\n  </tbody>\n</table>\n</div>"
          },
          "metadata": {}
        }
      ]
    },
    {
      "metadata": {
        "trusted": true,
        "_uuid": "4b2130e4e75e5218f96ee7377e7029d09cb1aff9"
      },
      "cell_type": "code",
      "source": "poly_features = poly_features.drop('1',axis=1)\npoly_features.head()",
      "execution_count": 41,
      "outputs": [
        {
          "output_type": "execute_result",
          "execution_count": 41,
          "data": {
            "text/plain": "   clickcount  favoredcount   ...    soldquantity^3  target\n0       276.0           0.0   ...              27.0       0\n1        12.0           0.0   ...               1.0       0\n2        34.0           0.0   ...               8.0       0\n3       282.0           0.0   ...             343.0       0\n4       418.0           0.0   ...               1.0       0\n\n[5 rows x 20 columns]",
            "text/html": "<div>\n<style scoped>\n    .dataframe tbody tr th:only-of-type {\n        vertical-align: middle;\n    }\n\n    .dataframe tbody tr th {\n        vertical-align: top;\n    }\n\n    .dataframe thead th {\n        text-align: right;\n    }\n</style>\n<table border=\"1\" class=\"dataframe\">\n  <thead>\n    <tr style=\"text-align: right;\">\n      <th></th>\n      <th>clickcount</th>\n      <th>favoredcount</th>\n      <th>soldquantity</th>\n      <th>clickcount^2</th>\n      <th>clickcount favoredcount</th>\n      <th>clickcount soldquantity</th>\n      <th>favoredcount^2</th>\n      <th>favoredcount soldquantity</th>\n      <th>soldquantity^2</th>\n      <th>clickcount^3</th>\n      <th>clickcount^2 favoredcount</th>\n      <th>clickcount^2 soldquantity</th>\n      <th>clickcount favoredcount^2</th>\n      <th>clickcount favoredcount soldquantity</th>\n      <th>clickcount soldquantity^2</th>\n      <th>favoredcount^3</th>\n      <th>favoredcount^2 soldquantity</th>\n      <th>favoredcount soldquantity^2</th>\n      <th>soldquantity^3</th>\n      <th>target</th>\n    </tr>\n  </thead>\n  <tbody>\n    <tr>\n      <th>0</th>\n      <td>276.0</td>\n      <td>0.0</td>\n      <td>3.0</td>\n      <td>76176.0</td>\n      <td>0.0</td>\n      <td>828.0</td>\n      <td>0.0</td>\n      <td>0.0</td>\n      <td>9.0</td>\n      <td>21024576.0</td>\n      <td>0.0</td>\n      <td>228528.0</td>\n      <td>0.0</td>\n      <td>0.0</td>\n      <td>2484.0</td>\n      <td>0.0</td>\n      <td>0.0</td>\n      <td>0.0</td>\n      <td>27.0</td>\n      <td>0</td>\n    </tr>\n    <tr>\n      <th>1</th>\n      <td>12.0</td>\n      <td>0.0</td>\n      <td>1.0</td>\n      <td>144.0</td>\n      <td>0.0</td>\n      <td>12.0</td>\n      <td>0.0</td>\n      <td>0.0</td>\n      <td>1.0</td>\n      <td>1728.0</td>\n      <td>0.0</td>\n      <td>144.0</td>\n      <td>0.0</td>\n      <td>0.0</td>\n      <td>12.0</td>\n      <td>0.0</td>\n      <td>0.0</td>\n      <td>0.0</td>\n      <td>1.0</td>\n      <td>0</td>\n    </tr>\n    <tr>\n      <th>2</th>\n      <td>34.0</td>\n      <td>0.0</td>\n      <td>2.0</td>\n      <td>1156.0</td>\n      <td>0.0</td>\n      <td>68.0</td>\n      <td>0.0</td>\n      <td>0.0</td>\n      <td>4.0</td>\n      <td>39304.0</td>\n      <td>0.0</td>\n      <td>2312.0</td>\n      <td>0.0</td>\n      <td>0.0</td>\n      <td>136.0</td>\n      <td>0.0</td>\n      <td>0.0</td>\n      <td>0.0</td>\n      <td>8.0</td>\n      <td>0</td>\n    </tr>\n    <tr>\n      <th>3</th>\n      <td>282.0</td>\n      <td>0.0</td>\n      <td>7.0</td>\n      <td>79524.0</td>\n      <td>0.0</td>\n      <td>1974.0</td>\n      <td>0.0</td>\n      <td>0.0</td>\n      <td>49.0</td>\n      <td>22425768.0</td>\n      <td>0.0</td>\n      <td>556668.0</td>\n      <td>0.0</td>\n      <td>0.0</td>\n      <td>13818.0</td>\n      <td>0.0</td>\n      <td>0.0</td>\n      <td>0.0</td>\n      <td>343.0</td>\n      <td>0</td>\n    </tr>\n    <tr>\n      <th>4</th>\n      <td>418.0</td>\n      <td>0.0</td>\n      <td>1.0</td>\n      <td>174724.0</td>\n      <td>0.0</td>\n      <td>418.0</td>\n      <td>0.0</td>\n      <td>0.0</td>\n      <td>1.0</td>\n      <td>73034632.0</td>\n      <td>0.0</td>\n      <td>174724.0</td>\n      <td>0.0</td>\n      <td>0.0</td>\n      <td>418.0</td>\n      <td>0.0</td>\n      <td>0.0</td>\n      <td>0.0</td>\n      <td>1.0</td>\n      <td>0</td>\n    </tr>\n  </tbody>\n</table>\n</div>"
          },
          "metadata": {}
        }
      ]
    },
    {
      "metadata": {
        "trusted": true,
        "_uuid": "4c6181ac61097fec90b15733084d8682d4ca5c6a"
      },
      "cell_type": "code",
      "source": "poly_features_test = poly_features_test.drop('1',axis=1)\npoly_features_test.head()",
      "execution_count": 42,
      "outputs": [
        {
          "output_type": "execute_result",
          "execution_count": 42,
          "data": {
            "text/plain": "   clickcount       ...        soldquantity^3\n0       276.0       ...                  27.0\n1        12.0       ...                   1.0\n2        34.0       ...                   8.0\n3       282.0       ...                 343.0\n4       418.0       ...                   1.0\n\n[5 rows x 19 columns]",
            "text/html": "<div>\n<style scoped>\n    .dataframe tbody tr th:only-of-type {\n        vertical-align: middle;\n    }\n\n    .dataframe tbody tr th {\n        vertical-align: top;\n    }\n\n    .dataframe thead th {\n        text-align: right;\n    }\n</style>\n<table border=\"1\" class=\"dataframe\">\n  <thead>\n    <tr style=\"text-align: right;\">\n      <th></th>\n      <th>clickcount</th>\n      <th>favoredcount</th>\n      <th>soldquantity</th>\n      <th>clickcount^2</th>\n      <th>clickcount favoredcount</th>\n      <th>clickcount soldquantity</th>\n      <th>favoredcount^2</th>\n      <th>favoredcount soldquantity</th>\n      <th>soldquantity^2</th>\n      <th>clickcount^3</th>\n      <th>clickcount^2 favoredcount</th>\n      <th>clickcount^2 soldquantity</th>\n      <th>clickcount favoredcount^2</th>\n      <th>clickcount favoredcount soldquantity</th>\n      <th>clickcount soldquantity^2</th>\n      <th>favoredcount^3</th>\n      <th>favoredcount^2 soldquantity</th>\n      <th>favoredcount soldquantity^2</th>\n      <th>soldquantity^3</th>\n    </tr>\n  </thead>\n  <tbody>\n    <tr>\n      <th>0</th>\n      <td>276.0</td>\n      <td>0.0</td>\n      <td>3.0</td>\n      <td>76176.0</td>\n      <td>0.0</td>\n      <td>828.0</td>\n      <td>0.0</td>\n      <td>0.0</td>\n      <td>9.0</td>\n      <td>21024576.0</td>\n      <td>0.0</td>\n      <td>228528.0</td>\n      <td>0.0</td>\n      <td>0.0</td>\n      <td>2484.0</td>\n      <td>0.0</td>\n      <td>0.0</td>\n      <td>0.0</td>\n      <td>27.0</td>\n    </tr>\n    <tr>\n      <th>1</th>\n      <td>12.0</td>\n      <td>0.0</td>\n      <td>1.0</td>\n      <td>144.0</td>\n      <td>0.0</td>\n      <td>12.0</td>\n      <td>0.0</td>\n      <td>0.0</td>\n      <td>1.0</td>\n      <td>1728.0</td>\n      <td>0.0</td>\n      <td>144.0</td>\n      <td>0.0</td>\n      <td>0.0</td>\n      <td>12.0</td>\n      <td>0.0</td>\n      <td>0.0</td>\n      <td>0.0</td>\n      <td>1.0</td>\n    </tr>\n    <tr>\n      <th>2</th>\n      <td>34.0</td>\n      <td>0.0</td>\n      <td>2.0</td>\n      <td>1156.0</td>\n      <td>0.0</td>\n      <td>68.0</td>\n      <td>0.0</td>\n      <td>0.0</td>\n      <td>4.0</td>\n      <td>39304.0</td>\n      <td>0.0</td>\n      <td>2312.0</td>\n      <td>0.0</td>\n      <td>0.0</td>\n      <td>136.0</td>\n      <td>0.0</td>\n      <td>0.0</td>\n      <td>0.0</td>\n      <td>8.0</td>\n    </tr>\n    <tr>\n      <th>3</th>\n      <td>282.0</td>\n      <td>0.0</td>\n      <td>7.0</td>\n      <td>79524.0</td>\n      <td>0.0</td>\n      <td>1974.0</td>\n      <td>0.0</td>\n      <td>0.0</td>\n      <td>49.0</td>\n      <td>22425768.0</td>\n      <td>0.0</td>\n      <td>556668.0</td>\n      <td>0.0</td>\n      <td>0.0</td>\n      <td>13818.0</td>\n      <td>0.0</td>\n      <td>0.0</td>\n      <td>0.0</td>\n      <td>343.0</td>\n    </tr>\n    <tr>\n      <th>4</th>\n      <td>418.0</td>\n      <td>0.0</td>\n      <td>1.0</td>\n      <td>174724.0</td>\n      <td>0.0</td>\n      <td>418.0</td>\n      <td>0.0</td>\n      <td>0.0</td>\n      <td>1.0</td>\n      <td>73034632.0</td>\n      <td>0.0</td>\n      <td>174724.0</td>\n      <td>0.0</td>\n      <td>0.0</td>\n      <td>418.0</td>\n      <td>0.0</td>\n      <td>0.0</td>\n      <td>0.0</td>\n      <td>1.0</td>\n    </tr>\n  </tbody>\n</table>\n</div>"
          },
          "metadata": {}
        }
      ]
    },
    {
      "metadata": {
        "trusted": true,
        "_uuid": "2e407ad442aeff4be40e56cbc3cbff58a95207fd"
      },
      "cell_type": "code",
      "source": "poly_features_all = poly_features_all.drop('1',axis=1)\npoly_features_all.head()",
      "execution_count": 43,
      "outputs": [
        {
          "output_type": "execute_result",
          "execution_count": 43,
          "data": {
            "text/plain": "   clickcount       ...        soldquantity^3\n0      8941.0       ...               29791.0\n1       768.0       ...                   8.0\n2      3277.0       ...                2744.0\n3     23309.0       ...               32768.0\n4      8169.0       ...                1728.0\n\n[5 rows x 19 columns]",
            "text/html": "<div>\n<style scoped>\n    .dataframe tbody tr th:only-of-type {\n        vertical-align: middle;\n    }\n\n    .dataframe tbody tr th {\n        vertical-align: top;\n    }\n\n    .dataframe thead th {\n        text-align: right;\n    }\n</style>\n<table border=\"1\" class=\"dataframe\">\n  <thead>\n    <tr style=\"text-align: right;\">\n      <th></th>\n      <th>clickcount</th>\n      <th>favoredcount</th>\n      <th>soldquantity</th>\n      <th>clickcount^2</th>\n      <th>clickcount favoredcount</th>\n      <th>clickcount soldquantity</th>\n      <th>favoredcount^2</th>\n      <th>favoredcount soldquantity</th>\n      <th>soldquantity^2</th>\n      <th>clickcount^3</th>\n      <th>clickcount^2 favoredcount</th>\n      <th>clickcount^2 soldquantity</th>\n      <th>clickcount favoredcount^2</th>\n      <th>clickcount favoredcount soldquantity</th>\n      <th>clickcount soldquantity^2</th>\n      <th>favoredcount^3</th>\n      <th>favoredcount^2 soldquantity</th>\n      <th>favoredcount soldquantity^2</th>\n      <th>soldquantity^3</th>\n    </tr>\n  </thead>\n  <tbody>\n    <tr>\n      <th>0</th>\n      <td>8941.0</td>\n      <td>236.0</td>\n      <td>31.0</td>\n      <td>79941481.0</td>\n      <td>2110076.0</td>\n      <td>277171.0</td>\n      <td>55696.0</td>\n      <td>7316.0</td>\n      <td>961.0</td>\n      <td>7.147568e+11</td>\n      <td>1.886619e+10</td>\n      <td>2.478186e+09</td>\n      <td>4.979779e+08</td>\n      <td>65412356.0</td>\n      <td>8592301.0</td>\n      <td>13144256.0</td>\n      <td>1726576.0</td>\n      <td>226796.0</td>\n      <td>29791.0</td>\n    </tr>\n    <tr>\n      <th>1</th>\n      <td>768.0</td>\n      <td>23.0</td>\n      <td>2.0</td>\n      <td>589824.0</td>\n      <td>17664.0</td>\n      <td>1536.0</td>\n      <td>529.0</td>\n      <td>46.0</td>\n      <td>4.0</td>\n      <td>4.529848e+08</td>\n      <td>1.356595e+07</td>\n      <td>1.179648e+06</td>\n      <td>4.062720e+05</td>\n      <td>35328.0</td>\n      <td>3072.0</td>\n      <td>12167.0</td>\n      <td>1058.0</td>\n      <td>92.0</td>\n      <td>8.0</td>\n    </tr>\n    <tr>\n      <th>2</th>\n      <td>3277.0</td>\n      <td>98.0</td>\n      <td>14.0</td>\n      <td>10738729.0</td>\n      <td>321146.0</td>\n      <td>45878.0</td>\n      <td>9604.0</td>\n      <td>1372.0</td>\n      <td>196.0</td>\n      <td>3.519081e+10</td>\n      <td>1.052395e+09</td>\n      <td>1.503422e+08</td>\n      <td>3.147231e+07</td>\n      <td>4496044.0</td>\n      <td>642292.0</td>\n      <td>941192.0</td>\n      <td>134456.0</td>\n      <td>19208.0</td>\n      <td>2744.0</td>\n    </tr>\n    <tr>\n      <th>3</th>\n      <td>23309.0</td>\n      <td>219.0</td>\n      <td>32.0</td>\n      <td>543309481.0</td>\n      <td>5104671.0</td>\n      <td>745888.0</td>\n      <td>47961.0</td>\n      <td>7008.0</td>\n      <td>1024.0</td>\n      <td>1.266400e+13</td>\n      <td>1.189848e+11</td>\n      <td>1.738590e+10</td>\n      <td>1.117923e+09</td>\n      <td>163349472.0</td>\n      <td>23868416.0</td>\n      <td>10503459.0</td>\n      <td>1534752.0</td>\n      <td>224256.0</td>\n      <td>32768.0</td>\n    </tr>\n    <tr>\n      <th>4</th>\n      <td>8169.0</td>\n      <td>56.0</td>\n      <td>12.0</td>\n      <td>66732561.0</td>\n      <td>457464.0</td>\n      <td>98028.0</td>\n      <td>3136.0</td>\n      <td>672.0</td>\n      <td>144.0</td>\n      <td>5.451383e+11</td>\n      <td>3.737023e+09</td>\n      <td>8.007907e+08</td>\n      <td>2.561798e+07</td>\n      <td>5489568.0</td>\n      <td>1176336.0</td>\n      <td>175616.0</td>\n      <td>37632.0</td>\n      <td>8064.0</td>\n      <td>1728.0</td>\n    </tr>\n  </tbody>\n</table>\n</div>"
          },
          "metadata": {}
        }
      ]
    },
    {
      "metadata": {
        "_uuid": "dd025f9722dedee25082b9662a8476d4d21f28ef"
      },
      "cell_type": "markdown",
      "source": "**--------------------ADD POLYNAMIAL FEATURES TO TRAIN DATA------------**"
    },
    {
      "metadata": {
        "trusted": true,
        "_uuid": "201370e38b935ced67843124a050435d05c81835"
      },
      "cell_type": "code",
      "source": "poly_features['productid'] = target_added['productid']\npoly_features.head()",
      "execution_count": 44,
      "outputs": [
        {
          "output_type": "execute_result",
          "execution_count": 44,
          "data": {
            "text/plain": "   clickcount  favoredcount    ...      target  productid\n0       276.0           0.0    ...           0          1\n1        12.0           0.0    ...           0          2\n2        34.0           0.0    ...           0          3\n3       282.0           0.0    ...           0          4\n4       418.0           0.0    ...           0          5\n\n[5 rows x 21 columns]",
            "text/html": "<div>\n<style scoped>\n    .dataframe tbody tr th:only-of-type {\n        vertical-align: middle;\n    }\n\n    .dataframe tbody tr th {\n        vertical-align: top;\n    }\n\n    .dataframe thead th {\n        text-align: right;\n    }\n</style>\n<table border=\"1\" class=\"dataframe\">\n  <thead>\n    <tr style=\"text-align: right;\">\n      <th></th>\n      <th>clickcount</th>\n      <th>favoredcount</th>\n      <th>soldquantity</th>\n      <th>clickcount^2</th>\n      <th>clickcount favoredcount</th>\n      <th>clickcount soldquantity</th>\n      <th>favoredcount^2</th>\n      <th>favoredcount soldquantity</th>\n      <th>soldquantity^2</th>\n      <th>clickcount^3</th>\n      <th>clickcount^2 favoredcount</th>\n      <th>clickcount^2 soldquantity</th>\n      <th>clickcount favoredcount^2</th>\n      <th>clickcount favoredcount soldquantity</th>\n      <th>clickcount soldquantity^2</th>\n      <th>favoredcount^3</th>\n      <th>favoredcount^2 soldquantity</th>\n      <th>favoredcount soldquantity^2</th>\n      <th>soldquantity^3</th>\n      <th>target</th>\n      <th>productid</th>\n    </tr>\n  </thead>\n  <tbody>\n    <tr>\n      <th>0</th>\n      <td>276.0</td>\n      <td>0.0</td>\n      <td>3.0</td>\n      <td>76176.0</td>\n      <td>0.0</td>\n      <td>828.0</td>\n      <td>0.0</td>\n      <td>0.0</td>\n      <td>9.0</td>\n      <td>21024576.0</td>\n      <td>0.0</td>\n      <td>228528.0</td>\n      <td>0.0</td>\n      <td>0.0</td>\n      <td>2484.0</td>\n      <td>0.0</td>\n      <td>0.0</td>\n      <td>0.0</td>\n      <td>27.0</td>\n      <td>0</td>\n      <td>1</td>\n    </tr>\n    <tr>\n      <th>1</th>\n      <td>12.0</td>\n      <td>0.0</td>\n      <td>1.0</td>\n      <td>144.0</td>\n      <td>0.0</td>\n      <td>12.0</td>\n      <td>0.0</td>\n      <td>0.0</td>\n      <td>1.0</td>\n      <td>1728.0</td>\n      <td>0.0</td>\n      <td>144.0</td>\n      <td>0.0</td>\n      <td>0.0</td>\n      <td>12.0</td>\n      <td>0.0</td>\n      <td>0.0</td>\n      <td>0.0</td>\n      <td>1.0</td>\n      <td>0</td>\n      <td>2</td>\n    </tr>\n    <tr>\n      <th>2</th>\n      <td>34.0</td>\n      <td>0.0</td>\n      <td>2.0</td>\n      <td>1156.0</td>\n      <td>0.0</td>\n      <td>68.0</td>\n      <td>0.0</td>\n      <td>0.0</td>\n      <td>4.0</td>\n      <td>39304.0</td>\n      <td>0.0</td>\n      <td>2312.0</td>\n      <td>0.0</td>\n      <td>0.0</td>\n      <td>136.0</td>\n      <td>0.0</td>\n      <td>0.0</td>\n      <td>0.0</td>\n      <td>8.0</td>\n      <td>0</td>\n      <td>3</td>\n    </tr>\n    <tr>\n      <th>3</th>\n      <td>282.0</td>\n      <td>0.0</td>\n      <td>7.0</td>\n      <td>79524.0</td>\n      <td>0.0</td>\n      <td>1974.0</td>\n      <td>0.0</td>\n      <td>0.0</td>\n      <td>49.0</td>\n      <td>22425768.0</td>\n      <td>0.0</td>\n      <td>556668.0</td>\n      <td>0.0</td>\n      <td>0.0</td>\n      <td>13818.0</td>\n      <td>0.0</td>\n      <td>0.0</td>\n      <td>0.0</td>\n      <td>343.0</td>\n      <td>0</td>\n      <td>4</td>\n    </tr>\n    <tr>\n      <th>4</th>\n      <td>418.0</td>\n      <td>0.0</td>\n      <td>1.0</td>\n      <td>174724.0</td>\n      <td>0.0</td>\n      <td>418.0</td>\n      <td>0.0</td>\n      <td>0.0</td>\n      <td>1.0</td>\n      <td>73034632.0</td>\n      <td>0.0</td>\n      <td>174724.0</td>\n      <td>0.0</td>\n      <td>0.0</td>\n      <td>418.0</td>\n      <td>0.0</td>\n      <td>0.0</td>\n      <td>0.0</td>\n      <td>1.0</td>\n      <td>0</td>\n      <td>5</td>\n    </tr>\n  </tbody>\n</table>\n</div>"
          },
          "metadata": {}
        }
      ]
    },
    {
      "metadata": {
        "trusted": true,
        "_uuid": "7d5a115a54a7228da5ae10908f3a22f375880dde"
      },
      "cell_type": "code",
      "source": "poly_features = poly_features.drop(columns = ['clickcount', 'favoredcount', 'soldquantity','target'])\npoly_features.head()",
      "execution_count": 45,
      "outputs": [
        {
          "output_type": "execute_result",
          "execution_count": 45,
          "data": {
            "text/plain": "   clickcount^2  clickcount favoredcount    ...      soldquantity^3  productid\n0       76176.0                      0.0    ...                27.0          1\n1         144.0                      0.0    ...                 1.0          2\n2        1156.0                      0.0    ...                 8.0          3\n3       79524.0                      0.0    ...               343.0          4\n4      174724.0                      0.0    ...                 1.0          5\n\n[5 rows x 17 columns]",
            "text/html": "<div>\n<style scoped>\n    .dataframe tbody tr th:only-of-type {\n        vertical-align: middle;\n    }\n\n    .dataframe tbody tr th {\n        vertical-align: top;\n    }\n\n    .dataframe thead th {\n        text-align: right;\n    }\n</style>\n<table border=\"1\" class=\"dataframe\">\n  <thead>\n    <tr style=\"text-align: right;\">\n      <th></th>\n      <th>clickcount^2</th>\n      <th>clickcount favoredcount</th>\n      <th>clickcount soldquantity</th>\n      <th>favoredcount^2</th>\n      <th>favoredcount soldquantity</th>\n      <th>soldquantity^2</th>\n      <th>clickcount^3</th>\n      <th>clickcount^2 favoredcount</th>\n      <th>clickcount^2 soldquantity</th>\n      <th>clickcount favoredcount^2</th>\n      <th>clickcount favoredcount soldquantity</th>\n      <th>clickcount soldquantity^2</th>\n      <th>favoredcount^3</th>\n      <th>favoredcount^2 soldquantity</th>\n      <th>favoredcount soldquantity^2</th>\n      <th>soldquantity^3</th>\n      <th>productid</th>\n    </tr>\n  </thead>\n  <tbody>\n    <tr>\n      <th>0</th>\n      <td>76176.0</td>\n      <td>0.0</td>\n      <td>828.0</td>\n      <td>0.0</td>\n      <td>0.0</td>\n      <td>9.0</td>\n      <td>21024576.0</td>\n      <td>0.0</td>\n      <td>228528.0</td>\n      <td>0.0</td>\n      <td>0.0</td>\n      <td>2484.0</td>\n      <td>0.0</td>\n      <td>0.0</td>\n      <td>0.0</td>\n      <td>27.0</td>\n      <td>1</td>\n    </tr>\n    <tr>\n      <th>1</th>\n      <td>144.0</td>\n      <td>0.0</td>\n      <td>12.0</td>\n      <td>0.0</td>\n      <td>0.0</td>\n      <td>1.0</td>\n      <td>1728.0</td>\n      <td>0.0</td>\n      <td>144.0</td>\n      <td>0.0</td>\n      <td>0.0</td>\n      <td>12.0</td>\n      <td>0.0</td>\n      <td>0.0</td>\n      <td>0.0</td>\n      <td>1.0</td>\n      <td>2</td>\n    </tr>\n    <tr>\n      <th>2</th>\n      <td>1156.0</td>\n      <td>0.0</td>\n      <td>68.0</td>\n      <td>0.0</td>\n      <td>0.0</td>\n      <td>4.0</td>\n      <td>39304.0</td>\n      <td>0.0</td>\n      <td>2312.0</td>\n      <td>0.0</td>\n      <td>0.0</td>\n      <td>136.0</td>\n      <td>0.0</td>\n      <td>0.0</td>\n      <td>0.0</td>\n      <td>8.0</td>\n      <td>3</td>\n    </tr>\n    <tr>\n      <th>3</th>\n      <td>79524.0</td>\n      <td>0.0</td>\n      <td>1974.0</td>\n      <td>0.0</td>\n      <td>0.0</td>\n      <td>49.0</td>\n      <td>22425768.0</td>\n      <td>0.0</td>\n      <td>556668.0</td>\n      <td>0.0</td>\n      <td>0.0</td>\n      <td>13818.0</td>\n      <td>0.0</td>\n      <td>0.0</td>\n      <td>0.0</td>\n      <td>343.0</td>\n      <td>4</td>\n    </tr>\n    <tr>\n      <th>4</th>\n      <td>174724.0</td>\n      <td>0.0</td>\n      <td>418.0</td>\n      <td>0.0</td>\n      <td>0.0</td>\n      <td>1.0</td>\n      <td>73034632.0</td>\n      <td>0.0</td>\n      <td>174724.0</td>\n      <td>0.0</td>\n      <td>0.0</td>\n      <td>418.0</td>\n      <td>0.0</td>\n      <td>0.0</td>\n      <td>0.0</td>\n      <td>1.0</td>\n      <td>5</td>\n    </tr>\n  </tbody>\n</table>\n</div>"
          },
          "metadata": {}
        }
      ]
    },
    {
      "metadata": {
        "trusted": true,
        "_uuid": "7634edafa66dc944bebd2f1bdf7ac8b61aaf50e3"
      },
      "cell_type": "code",
      "source": "train_X_poly = train_group.merge(poly_features, on = 'productid', how ='left')\ntrain_X_poly.head()",
      "execution_count": 46,
      "outputs": [
        {
          "output_type": "execute_result",
          "execution_count": 46,
          "data": {
            "text/plain": "   productid       ...        soldquantity^3\n0          1       ...                  27.0\n1          2       ...                   1.0\n2          3       ...                   8.0\n3          4       ...                 343.0\n4          5       ...                   1.0\n\n[5 rows x 21 columns]",
            "text/html": "<div>\n<style scoped>\n    .dataframe tbody tr th:only-of-type {\n        vertical-align: middle;\n    }\n\n    .dataframe tbody tr th {\n        vertical-align: top;\n    }\n\n    .dataframe thead th {\n        text-align: right;\n    }\n</style>\n<table border=\"1\" class=\"dataframe\">\n  <thead>\n    <tr style=\"text-align: right;\">\n      <th></th>\n      <th>productid</th>\n      <th>clickcount</th>\n      <th>favoredcount</th>\n      <th>soldquantity</th>\n      <th>heat</th>\n      <th>clickcount^2</th>\n      <th>clickcount favoredcount</th>\n      <th>clickcount soldquantity</th>\n      <th>favoredcount^2</th>\n      <th>favoredcount soldquantity</th>\n      <th>soldquantity^2</th>\n      <th>clickcount^3</th>\n      <th>clickcount^2 favoredcount</th>\n      <th>clickcount^2 soldquantity</th>\n      <th>clickcount favoredcount^2</th>\n      <th>clickcount favoredcount soldquantity</th>\n      <th>clickcount soldquantity^2</th>\n      <th>favoredcount^3</th>\n      <th>favoredcount^2 soldquantity</th>\n      <th>favoredcount soldquantity^2</th>\n      <th>soldquantity^3</th>\n    </tr>\n  </thead>\n  <tbody>\n    <tr>\n      <th>0</th>\n      <td>1</td>\n      <td>276.0</td>\n      <td>0.0</td>\n      <td>3</td>\n      <td>0.000000</td>\n      <td>76176.0</td>\n      <td>0.0</td>\n      <td>828.0</td>\n      <td>0.0</td>\n      <td>0.0</td>\n      <td>9.0</td>\n      <td>21024576.0</td>\n      <td>0.0</td>\n      <td>228528.0</td>\n      <td>0.0</td>\n      <td>0.0</td>\n      <td>2484.0</td>\n      <td>0.0</td>\n      <td>0.0</td>\n      <td>0.0</td>\n      <td>27.0</td>\n    </tr>\n    <tr>\n      <th>1</th>\n      <td>2</td>\n      <td>12.0</td>\n      <td>0.0</td>\n      <td>1</td>\n      <td>0.017241</td>\n      <td>144.0</td>\n      <td>0.0</td>\n      <td>12.0</td>\n      <td>0.0</td>\n      <td>0.0</td>\n      <td>1.0</td>\n      <td>1728.0</td>\n      <td>0.0</td>\n      <td>144.0</td>\n      <td>0.0</td>\n      <td>0.0</td>\n      <td>12.0</td>\n      <td>0.0</td>\n      <td>0.0</td>\n      <td>0.0</td>\n      <td>1.0</td>\n    </tr>\n    <tr>\n      <th>2</th>\n      <td>3</td>\n      <td>34.0</td>\n      <td>0.0</td>\n      <td>2</td>\n      <td>0.016736</td>\n      <td>1156.0</td>\n      <td>0.0</td>\n      <td>68.0</td>\n      <td>0.0</td>\n      <td>0.0</td>\n      <td>4.0</td>\n      <td>39304.0</td>\n      <td>0.0</td>\n      <td>2312.0</td>\n      <td>0.0</td>\n      <td>0.0</td>\n      <td>136.0</td>\n      <td>0.0</td>\n      <td>0.0</td>\n      <td>0.0</td>\n      <td>8.0</td>\n    </tr>\n    <tr>\n      <th>3</th>\n      <td>4</td>\n      <td>282.0</td>\n      <td>0.0</td>\n      <td>7</td>\n      <td>0.016097</td>\n      <td>79524.0</td>\n      <td>0.0</td>\n      <td>1974.0</td>\n      <td>0.0</td>\n      <td>0.0</td>\n      <td>49.0</td>\n      <td>22425768.0</td>\n      <td>0.0</td>\n      <td>556668.0</td>\n      <td>0.0</td>\n      <td>0.0</td>\n      <td>13818.0</td>\n      <td>0.0</td>\n      <td>0.0</td>\n      <td>0.0</td>\n      <td>343.0</td>\n    </tr>\n    <tr>\n      <th>4</th>\n      <td>5</td>\n      <td>418.0</td>\n      <td>0.0</td>\n      <td>1</td>\n      <td>0.037787</td>\n      <td>174724.0</td>\n      <td>0.0</td>\n      <td>418.0</td>\n      <td>0.0</td>\n      <td>0.0</td>\n      <td>1.0</td>\n      <td>73034632.0</td>\n      <td>0.0</td>\n      <td>174724.0</td>\n      <td>0.0</td>\n      <td>0.0</td>\n      <td>418.0</td>\n      <td>0.0</td>\n      <td>0.0</td>\n      <td>0.0</td>\n      <td>1.0</td>\n    </tr>\n  </tbody>\n</table>\n</div>"
          },
          "metadata": {}
        }
      ]
    },
    {
      "metadata": {
        "_uuid": "6fc0959b1b3733c6a1b452dc02165c1c5fd211fe"
      },
      "cell_type": "markdown",
      "source": "**---------------------ADD POLYNAMIAL FEATURES TO TEST DATA-------------------**"
    },
    {
      "metadata": {
        "trusted": true,
        "_uuid": "8587a66fd75bedcfd4a1ba3969824339a9567e5e"
      },
      "cell_type": "code",
      "source": "poly_features_test['productid'] = test_X['productid']\npoly_features_test.head()",
      "execution_count": 47,
      "outputs": [
        {
          "output_type": "execute_result",
          "execution_count": 47,
          "data": {
            "text/plain": "   clickcount  favoredcount    ...      soldquantity^3  productid\n0       276.0           0.0    ...                27.0          1\n1        12.0           0.0    ...                 1.0          2\n2        34.0           0.0    ...                 8.0          3\n3       282.0           0.0    ...               343.0          4\n4       418.0           0.0    ...                 1.0          5\n\n[5 rows x 20 columns]",
            "text/html": "<div>\n<style scoped>\n    .dataframe tbody tr th:only-of-type {\n        vertical-align: middle;\n    }\n\n    .dataframe tbody tr th {\n        vertical-align: top;\n    }\n\n    .dataframe thead th {\n        text-align: right;\n    }\n</style>\n<table border=\"1\" class=\"dataframe\">\n  <thead>\n    <tr style=\"text-align: right;\">\n      <th></th>\n      <th>clickcount</th>\n      <th>favoredcount</th>\n      <th>soldquantity</th>\n      <th>clickcount^2</th>\n      <th>clickcount favoredcount</th>\n      <th>clickcount soldquantity</th>\n      <th>favoredcount^2</th>\n      <th>favoredcount soldquantity</th>\n      <th>soldquantity^2</th>\n      <th>clickcount^3</th>\n      <th>clickcount^2 favoredcount</th>\n      <th>clickcount^2 soldquantity</th>\n      <th>clickcount favoredcount^2</th>\n      <th>clickcount favoredcount soldquantity</th>\n      <th>clickcount soldquantity^2</th>\n      <th>favoredcount^3</th>\n      <th>favoredcount^2 soldquantity</th>\n      <th>favoredcount soldquantity^2</th>\n      <th>soldquantity^3</th>\n      <th>productid</th>\n    </tr>\n  </thead>\n  <tbody>\n    <tr>\n      <th>0</th>\n      <td>276.0</td>\n      <td>0.0</td>\n      <td>3.0</td>\n      <td>76176.0</td>\n      <td>0.0</td>\n      <td>828.0</td>\n      <td>0.0</td>\n      <td>0.0</td>\n      <td>9.0</td>\n      <td>21024576.0</td>\n      <td>0.0</td>\n      <td>228528.0</td>\n      <td>0.0</td>\n      <td>0.0</td>\n      <td>2484.0</td>\n      <td>0.0</td>\n      <td>0.0</td>\n      <td>0.0</td>\n      <td>27.0</td>\n      <td>1</td>\n    </tr>\n    <tr>\n      <th>1</th>\n      <td>12.0</td>\n      <td>0.0</td>\n      <td>1.0</td>\n      <td>144.0</td>\n      <td>0.0</td>\n      <td>12.0</td>\n      <td>0.0</td>\n      <td>0.0</td>\n      <td>1.0</td>\n      <td>1728.0</td>\n      <td>0.0</td>\n      <td>144.0</td>\n      <td>0.0</td>\n      <td>0.0</td>\n      <td>12.0</td>\n      <td>0.0</td>\n      <td>0.0</td>\n      <td>0.0</td>\n      <td>1.0</td>\n      <td>2</td>\n    </tr>\n    <tr>\n      <th>2</th>\n      <td>34.0</td>\n      <td>0.0</td>\n      <td>2.0</td>\n      <td>1156.0</td>\n      <td>0.0</td>\n      <td>68.0</td>\n      <td>0.0</td>\n      <td>0.0</td>\n      <td>4.0</td>\n      <td>39304.0</td>\n      <td>0.0</td>\n      <td>2312.0</td>\n      <td>0.0</td>\n      <td>0.0</td>\n      <td>136.0</td>\n      <td>0.0</td>\n      <td>0.0</td>\n      <td>0.0</td>\n      <td>8.0</td>\n      <td>3</td>\n    </tr>\n    <tr>\n      <th>3</th>\n      <td>282.0</td>\n      <td>0.0</td>\n      <td>7.0</td>\n      <td>79524.0</td>\n      <td>0.0</td>\n      <td>1974.0</td>\n      <td>0.0</td>\n      <td>0.0</td>\n      <td>49.0</td>\n      <td>22425768.0</td>\n      <td>0.0</td>\n      <td>556668.0</td>\n      <td>0.0</td>\n      <td>0.0</td>\n      <td>13818.0</td>\n      <td>0.0</td>\n      <td>0.0</td>\n      <td>0.0</td>\n      <td>343.0</td>\n      <td>4</td>\n    </tr>\n    <tr>\n      <th>4</th>\n      <td>418.0</td>\n      <td>0.0</td>\n      <td>1.0</td>\n      <td>174724.0</td>\n      <td>0.0</td>\n      <td>418.0</td>\n      <td>0.0</td>\n      <td>0.0</td>\n      <td>1.0</td>\n      <td>73034632.0</td>\n      <td>0.0</td>\n      <td>174724.0</td>\n      <td>0.0</td>\n      <td>0.0</td>\n      <td>418.0</td>\n      <td>0.0</td>\n      <td>0.0</td>\n      <td>0.0</td>\n      <td>1.0</td>\n      <td>5</td>\n    </tr>\n  </tbody>\n</table>\n</div>"
          },
          "metadata": {}
        }
      ]
    },
    {
      "metadata": {
        "trusted": true,
        "_uuid": "b5e175e652b58ef32a2e90b36a5bcecc0f21009c"
      },
      "cell_type": "code",
      "source": "poly_features_test = poly_features_test.drop(columns = ['clickcount', 'favoredcount','soldquantity'])\npoly_features_test.head()",
      "execution_count": 48,
      "outputs": [
        {
          "output_type": "execute_result",
          "execution_count": 48,
          "data": {
            "text/plain": "   clickcount^2  clickcount favoredcount    ...      soldquantity^3  productid\n0       76176.0                      0.0    ...                27.0          1\n1         144.0                      0.0    ...                 1.0          2\n2        1156.0                      0.0    ...                 8.0          3\n3       79524.0                      0.0    ...               343.0          4\n4      174724.0                      0.0    ...                 1.0          5\n\n[5 rows x 17 columns]",
            "text/html": "<div>\n<style scoped>\n    .dataframe tbody tr th:only-of-type {\n        vertical-align: middle;\n    }\n\n    .dataframe tbody tr th {\n        vertical-align: top;\n    }\n\n    .dataframe thead th {\n        text-align: right;\n    }\n</style>\n<table border=\"1\" class=\"dataframe\">\n  <thead>\n    <tr style=\"text-align: right;\">\n      <th></th>\n      <th>clickcount^2</th>\n      <th>clickcount favoredcount</th>\n      <th>clickcount soldquantity</th>\n      <th>favoredcount^2</th>\n      <th>favoredcount soldquantity</th>\n      <th>soldquantity^2</th>\n      <th>clickcount^3</th>\n      <th>clickcount^2 favoredcount</th>\n      <th>clickcount^2 soldquantity</th>\n      <th>clickcount favoredcount^2</th>\n      <th>clickcount favoredcount soldquantity</th>\n      <th>clickcount soldquantity^2</th>\n      <th>favoredcount^3</th>\n      <th>favoredcount^2 soldquantity</th>\n      <th>favoredcount soldquantity^2</th>\n      <th>soldquantity^3</th>\n      <th>productid</th>\n    </tr>\n  </thead>\n  <tbody>\n    <tr>\n      <th>0</th>\n      <td>76176.0</td>\n      <td>0.0</td>\n      <td>828.0</td>\n      <td>0.0</td>\n      <td>0.0</td>\n      <td>9.0</td>\n      <td>21024576.0</td>\n      <td>0.0</td>\n      <td>228528.0</td>\n      <td>0.0</td>\n      <td>0.0</td>\n      <td>2484.0</td>\n      <td>0.0</td>\n      <td>0.0</td>\n      <td>0.0</td>\n      <td>27.0</td>\n      <td>1</td>\n    </tr>\n    <tr>\n      <th>1</th>\n      <td>144.0</td>\n      <td>0.0</td>\n      <td>12.0</td>\n      <td>0.0</td>\n      <td>0.0</td>\n      <td>1.0</td>\n      <td>1728.0</td>\n      <td>0.0</td>\n      <td>144.0</td>\n      <td>0.0</td>\n      <td>0.0</td>\n      <td>12.0</td>\n      <td>0.0</td>\n      <td>0.0</td>\n      <td>0.0</td>\n      <td>1.0</td>\n      <td>2</td>\n    </tr>\n    <tr>\n      <th>2</th>\n      <td>1156.0</td>\n      <td>0.0</td>\n      <td>68.0</td>\n      <td>0.0</td>\n      <td>0.0</td>\n      <td>4.0</td>\n      <td>39304.0</td>\n      <td>0.0</td>\n      <td>2312.0</td>\n      <td>0.0</td>\n      <td>0.0</td>\n      <td>136.0</td>\n      <td>0.0</td>\n      <td>0.0</td>\n      <td>0.0</td>\n      <td>8.0</td>\n      <td>3</td>\n    </tr>\n    <tr>\n      <th>3</th>\n      <td>79524.0</td>\n      <td>0.0</td>\n      <td>1974.0</td>\n      <td>0.0</td>\n      <td>0.0</td>\n      <td>49.0</td>\n      <td>22425768.0</td>\n      <td>0.0</td>\n      <td>556668.0</td>\n      <td>0.0</td>\n      <td>0.0</td>\n      <td>13818.0</td>\n      <td>0.0</td>\n      <td>0.0</td>\n      <td>0.0</td>\n      <td>343.0</td>\n      <td>4</td>\n    </tr>\n    <tr>\n      <th>4</th>\n      <td>174724.0</td>\n      <td>0.0</td>\n      <td>418.0</td>\n      <td>0.0</td>\n      <td>0.0</td>\n      <td>1.0</td>\n      <td>73034632.0</td>\n      <td>0.0</td>\n      <td>174724.0</td>\n      <td>0.0</td>\n      <td>0.0</td>\n      <td>418.0</td>\n      <td>0.0</td>\n      <td>0.0</td>\n      <td>0.0</td>\n      <td>1.0</td>\n      <td>5</td>\n    </tr>\n  </tbody>\n</table>\n</div>"
          },
          "metadata": {}
        }
      ]
    },
    {
      "metadata": {
        "trusted": true,
        "_uuid": "8f8176924e805bc300701bddf9ec5639379eb038"
      },
      "cell_type": "code",
      "source": "test_X_poly = test_X.merge(poly_features_test, on = 'productid', how ='left')\ntest_X_poly.head()",
      "execution_count": 49,
      "outputs": [
        {
          "output_type": "execute_result",
          "execution_count": 49,
          "data": {
            "text/plain": "   productid       ...        soldquantity^3\n0          1       ...                  27.0\n1          2       ...                   1.0\n2          3       ...                   8.0\n3          4       ...                 343.0\n4          5       ...                   1.0\n\n[5 rows x 21 columns]",
            "text/html": "<div>\n<style scoped>\n    .dataframe tbody tr th:only-of-type {\n        vertical-align: middle;\n    }\n\n    .dataframe tbody tr th {\n        vertical-align: top;\n    }\n\n    .dataframe thead th {\n        text-align: right;\n    }\n</style>\n<table border=\"1\" class=\"dataframe\">\n  <thead>\n    <tr style=\"text-align: right;\">\n      <th></th>\n      <th>productid</th>\n      <th>clickcount</th>\n      <th>favoredcount</th>\n      <th>soldquantity</th>\n      <th>heat</th>\n      <th>clickcount^2</th>\n      <th>clickcount favoredcount</th>\n      <th>clickcount soldquantity</th>\n      <th>favoredcount^2</th>\n      <th>favoredcount soldquantity</th>\n      <th>soldquantity^2</th>\n      <th>clickcount^3</th>\n      <th>clickcount^2 favoredcount</th>\n      <th>clickcount^2 soldquantity</th>\n      <th>clickcount favoredcount^2</th>\n      <th>clickcount favoredcount soldquantity</th>\n      <th>clickcount soldquantity^2</th>\n      <th>favoredcount^3</th>\n      <th>favoredcount^2 soldquantity</th>\n      <th>favoredcount soldquantity^2</th>\n      <th>soldquantity^3</th>\n    </tr>\n  </thead>\n  <tbody>\n    <tr>\n      <th>0</th>\n      <td>1</td>\n      <td>276.0</td>\n      <td>0.0</td>\n      <td>3</td>\n      <td>0.000000</td>\n      <td>76176.0</td>\n      <td>0.0</td>\n      <td>828.0</td>\n      <td>0.0</td>\n      <td>0.0</td>\n      <td>9.0</td>\n      <td>21024576.0</td>\n      <td>0.0</td>\n      <td>228528.0</td>\n      <td>0.0</td>\n      <td>0.0</td>\n      <td>2484.0</td>\n      <td>0.0</td>\n      <td>0.0</td>\n      <td>0.0</td>\n      <td>27.0</td>\n    </tr>\n    <tr>\n      <th>1</th>\n      <td>2</td>\n      <td>12.0</td>\n      <td>0.0</td>\n      <td>1</td>\n      <td>0.017241</td>\n      <td>144.0</td>\n      <td>0.0</td>\n      <td>12.0</td>\n      <td>0.0</td>\n      <td>0.0</td>\n      <td>1.0</td>\n      <td>1728.0</td>\n      <td>0.0</td>\n      <td>144.0</td>\n      <td>0.0</td>\n      <td>0.0</td>\n      <td>12.0</td>\n      <td>0.0</td>\n      <td>0.0</td>\n      <td>0.0</td>\n      <td>1.0</td>\n    </tr>\n    <tr>\n      <th>2</th>\n      <td>3</td>\n      <td>34.0</td>\n      <td>0.0</td>\n      <td>2</td>\n      <td>0.016736</td>\n      <td>1156.0</td>\n      <td>0.0</td>\n      <td>68.0</td>\n      <td>0.0</td>\n      <td>0.0</td>\n      <td>4.0</td>\n      <td>39304.0</td>\n      <td>0.0</td>\n      <td>2312.0</td>\n      <td>0.0</td>\n      <td>0.0</td>\n      <td>136.0</td>\n      <td>0.0</td>\n      <td>0.0</td>\n      <td>0.0</td>\n      <td>8.0</td>\n    </tr>\n    <tr>\n      <th>3</th>\n      <td>4</td>\n      <td>282.0</td>\n      <td>0.0</td>\n      <td>7</td>\n      <td>0.016097</td>\n      <td>79524.0</td>\n      <td>0.0</td>\n      <td>1974.0</td>\n      <td>0.0</td>\n      <td>0.0</td>\n      <td>49.0</td>\n      <td>22425768.0</td>\n      <td>0.0</td>\n      <td>556668.0</td>\n      <td>0.0</td>\n      <td>0.0</td>\n      <td>13818.0</td>\n      <td>0.0</td>\n      <td>0.0</td>\n      <td>0.0</td>\n      <td>343.0</td>\n    </tr>\n    <tr>\n      <th>4</th>\n      <td>5</td>\n      <td>418.0</td>\n      <td>0.0</td>\n      <td>1</td>\n      <td>0.037787</td>\n      <td>174724.0</td>\n      <td>0.0</td>\n      <td>418.0</td>\n      <td>0.0</td>\n      <td>0.0</td>\n      <td>1.0</td>\n      <td>73034632.0</td>\n      <td>0.0</td>\n      <td>174724.0</td>\n      <td>0.0</td>\n      <td>0.0</td>\n      <td>418.0</td>\n      <td>0.0</td>\n      <td>0.0</td>\n      <td>0.0</td>\n      <td>1.0</td>\n    </tr>\n  </tbody>\n</table>\n</div>"
          },
          "metadata": {}
        }
      ]
    },
    {
      "metadata": {
        "_uuid": "e3c264eea01506cdb396404bbaf97af1b8932d30"
      },
      "cell_type": "markdown",
      "source": "**--------------------add poly features to submission data-----------------------**"
    },
    {
      "metadata": {
        "trusted": true,
        "_uuid": "db56c30014de3fa9831a225e27e23f0fa2f700cc"
      },
      "cell_type": "code",
      "source": "poly_features_all['productid'] = all_dropped['productid']\npoly_features_all.head()",
      "execution_count": 50,
      "outputs": [
        {
          "output_type": "execute_result",
          "execution_count": 50,
          "data": {
            "text/plain": "   clickcount  favoredcount    ...      soldquantity^3  productid\n0      8941.0         236.0    ...             29791.0        NaN\n1       768.0          23.0    ...                 8.0        NaN\n2      3277.0          98.0    ...              2744.0        NaN\n3     23309.0         219.0    ...             32768.0        NaN\n4      8169.0          56.0    ...              1728.0        NaN\n\n[5 rows x 20 columns]",
            "text/html": "<div>\n<style scoped>\n    .dataframe tbody tr th:only-of-type {\n        vertical-align: middle;\n    }\n\n    .dataframe tbody tr th {\n        vertical-align: top;\n    }\n\n    .dataframe thead th {\n        text-align: right;\n    }\n</style>\n<table border=\"1\" class=\"dataframe\">\n  <thead>\n    <tr style=\"text-align: right;\">\n      <th></th>\n      <th>clickcount</th>\n      <th>favoredcount</th>\n      <th>soldquantity</th>\n      <th>clickcount^2</th>\n      <th>clickcount favoredcount</th>\n      <th>clickcount soldquantity</th>\n      <th>favoredcount^2</th>\n      <th>favoredcount soldquantity</th>\n      <th>soldquantity^2</th>\n      <th>clickcount^3</th>\n      <th>clickcount^2 favoredcount</th>\n      <th>clickcount^2 soldquantity</th>\n      <th>clickcount favoredcount^2</th>\n      <th>clickcount favoredcount soldquantity</th>\n      <th>clickcount soldquantity^2</th>\n      <th>favoredcount^3</th>\n      <th>favoredcount^2 soldquantity</th>\n      <th>favoredcount soldquantity^2</th>\n      <th>soldquantity^3</th>\n      <th>productid</th>\n    </tr>\n  </thead>\n  <tbody>\n    <tr>\n      <th>0</th>\n      <td>8941.0</td>\n      <td>236.0</td>\n      <td>31.0</td>\n      <td>79941481.0</td>\n      <td>2110076.0</td>\n      <td>277171.0</td>\n      <td>55696.0</td>\n      <td>7316.0</td>\n      <td>961.0</td>\n      <td>7.147568e+11</td>\n      <td>1.886619e+10</td>\n      <td>2.478186e+09</td>\n      <td>4.979779e+08</td>\n      <td>65412356.0</td>\n      <td>8592301.0</td>\n      <td>13144256.0</td>\n      <td>1726576.0</td>\n      <td>226796.0</td>\n      <td>29791.0</td>\n      <td>NaN</td>\n    </tr>\n    <tr>\n      <th>1</th>\n      <td>768.0</td>\n      <td>23.0</td>\n      <td>2.0</td>\n      <td>589824.0</td>\n      <td>17664.0</td>\n      <td>1536.0</td>\n      <td>529.0</td>\n      <td>46.0</td>\n      <td>4.0</td>\n      <td>4.529848e+08</td>\n      <td>1.356595e+07</td>\n      <td>1.179648e+06</td>\n      <td>4.062720e+05</td>\n      <td>35328.0</td>\n      <td>3072.0</td>\n      <td>12167.0</td>\n      <td>1058.0</td>\n      <td>92.0</td>\n      <td>8.0</td>\n      <td>NaN</td>\n    </tr>\n    <tr>\n      <th>2</th>\n      <td>3277.0</td>\n      <td>98.0</td>\n      <td>14.0</td>\n      <td>10738729.0</td>\n      <td>321146.0</td>\n      <td>45878.0</td>\n      <td>9604.0</td>\n      <td>1372.0</td>\n      <td>196.0</td>\n      <td>3.519081e+10</td>\n      <td>1.052395e+09</td>\n      <td>1.503422e+08</td>\n      <td>3.147231e+07</td>\n      <td>4496044.0</td>\n      <td>642292.0</td>\n      <td>941192.0</td>\n      <td>134456.0</td>\n      <td>19208.0</td>\n      <td>2744.0</td>\n      <td>NaN</td>\n    </tr>\n    <tr>\n      <th>3</th>\n      <td>23309.0</td>\n      <td>219.0</td>\n      <td>32.0</td>\n      <td>543309481.0</td>\n      <td>5104671.0</td>\n      <td>745888.0</td>\n      <td>47961.0</td>\n      <td>7008.0</td>\n      <td>1024.0</td>\n      <td>1.266400e+13</td>\n      <td>1.189848e+11</td>\n      <td>1.738590e+10</td>\n      <td>1.117923e+09</td>\n      <td>163349472.0</td>\n      <td>23868416.0</td>\n      <td>10503459.0</td>\n      <td>1534752.0</td>\n      <td>224256.0</td>\n      <td>32768.0</td>\n      <td>NaN</td>\n    </tr>\n    <tr>\n      <th>4</th>\n      <td>8169.0</td>\n      <td>56.0</td>\n      <td>12.0</td>\n      <td>66732561.0</td>\n      <td>457464.0</td>\n      <td>98028.0</td>\n      <td>3136.0</td>\n      <td>672.0</td>\n      <td>144.0</td>\n      <td>5.451383e+11</td>\n      <td>3.737023e+09</td>\n      <td>8.007907e+08</td>\n      <td>2.561798e+07</td>\n      <td>5489568.0</td>\n      <td>1176336.0</td>\n      <td>175616.0</td>\n      <td>37632.0</td>\n      <td>8064.0</td>\n      <td>1728.0</td>\n      <td>NaN</td>\n    </tr>\n  </tbody>\n</table>\n</div>"
          },
          "metadata": {}
        }
      ]
    },
    {
      "metadata": {
        "trusted": true,
        "_uuid": "ef4da40754cc78a7d71984d23a3fe199a38e6dd2"
      },
      "cell_type": "code",
      "source": "poly_features_all = poly_features_all.drop(columns = ['clickcount', 'favoredcount','soldquantity'])\npoly_features_all.head()",
      "execution_count": 51,
      "outputs": [
        {
          "output_type": "execute_result",
          "execution_count": 51,
          "data": {
            "text/plain": "   clickcount^2  clickcount favoredcount    ...      soldquantity^3  productid\n0    79941481.0                2110076.0    ...             29791.0        NaN\n1      589824.0                  17664.0    ...                 8.0        NaN\n2    10738729.0                 321146.0    ...              2744.0        NaN\n3   543309481.0                5104671.0    ...             32768.0        NaN\n4    66732561.0                 457464.0    ...              1728.0        NaN\n\n[5 rows x 17 columns]",
            "text/html": "<div>\n<style scoped>\n    .dataframe tbody tr th:only-of-type {\n        vertical-align: middle;\n    }\n\n    .dataframe tbody tr th {\n        vertical-align: top;\n    }\n\n    .dataframe thead th {\n        text-align: right;\n    }\n</style>\n<table border=\"1\" class=\"dataframe\">\n  <thead>\n    <tr style=\"text-align: right;\">\n      <th></th>\n      <th>clickcount^2</th>\n      <th>clickcount favoredcount</th>\n      <th>clickcount soldquantity</th>\n      <th>favoredcount^2</th>\n      <th>favoredcount soldquantity</th>\n      <th>soldquantity^2</th>\n      <th>clickcount^3</th>\n      <th>clickcount^2 favoredcount</th>\n      <th>clickcount^2 soldquantity</th>\n      <th>clickcount favoredcount^2</th>\n      <th>clickcount favoredcount soldquantity</th>\n      <th>clickcount soldquantity^2</th>\n      <th>favoredcount^3</th>\n      <th>favoredcount^2 soldquantity</th>\n      <th>favoredcount soldquantity^2</th>\n      <th>soldquantity^3</th>\n      <th>productid</th>\n    </tr>\n  </thead>\n  <tbody>\n    <tr>\n      <th>0</th>\n      <td>79941481.0</td>\n      <td>2110076.0</td>\n      <td>277171.0</td>\n      <td>55696.0</td>\n      <td>7316.0</td>\n      <td>961.0</td>\n      <td>7.147568e+11</td>\n      <td>1.886619e+10</td>\n      <td>2.478186e+09</td>\n      <td>4.979779e+08</td>\n      <td>65412356.0</td>\n      <td>8592301.0</td>\n      <td>13144256.0</td>\n      <td>1726576.0</td>\n      <td>226796.0</td>\n      <td>29791.0</td>\n      <td>NaN</td>\n    </tr>\n    <tr>\n      <th>1</th>\n      <td>589824.0</td>\n      <td>17664.0</td>\n      <td>1536.0</td>\n      <td>529.0</td>\n      <td>46.0</td>\n      <td>4.0</td>\n      <td>4.529848e+08</td>\n      <td>1.356595e+07</td>\n      <td>1.179648e+06</td>\n      <td>4.062720e+05</td>\n      <td>35328.0</td>\n      <td>3072.0</td>\n      <td>12167.0</td>\n      <td>1058.0</td>\n      <td>92.0</td>\n      <td>8.0</td>\n      <td>NaN</td>\n    </tr>\n    <tr>\n      <th>2</th>\n      <td>10738729.0</td>\n      <td>321146.0</td>\n      <td>45878.0</td>\n      <td>9604.0</td>\n      <td>1372.0</td>\n      <td>196.0</td>\n      <td>3.519081e+10</td>\n      <td>1.052395e+09</td>\n      <td>1.503422e+08</td>\n      <td>3.147231e+07</td>\n      <td>4496044.0</td>\n      <td>642292.0</td>\n      <td>941192.0</td>\n      <td>134456.0</td>\n      <td>19208.0</td>\n      <td>2744.0</td>\n      <td>NaN</td>\n    </tr>\n    <tr>\n      <th>3</th>\n      <td>543309481.0</td>\n      <td>5104671.0</td>\n      <td>745888.0</td>\n      <td>47961.0</td>\n      <td>7008.0</td>\n      <td>1024.0</td>\n      <td>1.266400e+13</td>\n      <td>1.189848e+11</td>\n      <td>1.738590e+10</td>\n      <td>1.117923e+09</td>\n      <td>163349472.0</td>\n      <td>23868416.0</td>\n      <td>10503459.0</td>\n      <td>1534752.0</td>\n      <td>224256.0</td>\n      <td>32768.0</td>\n      <td>NaN</td>\n    </tr>\n    <tr>\n      <th>4</th>\n      <td>66732561.0</td>\n      <td>457464.0</td>\n      <td>98028.0</td>\n      <td>3136.0</td>\n      <td>672.0</td>\n      <td>144.0</td>\n      <td>5.451383e+11</td>\n      <td>3.737023e+09</td>\n      <td>8.007907e+08</td>\n      <td>2.561798e+07</td>\n      <td>5489568.0</td>\n      <td>1176336.0</td>\n      <td>175616.0</td>\n      <td>37632.0</td>\n      <td>8064.0</td>\n      <td>1728.0</td>\n      <td>NaN</td>\n    </tr>\n  </tbody>\n</table>\n</div>"
          },
          "metadata": {}
        }
      ]
    },
    {
      "metadata": {
        "trusted": true,
        "_uuid": "1564bb1c9aa4b8168e28230e086ca18bf4cdb365"
      },
      "cell_type": "code",
      "source": "all_dropped = all_dropped.merge(poly_features_test, on = 'productid', how ='left')\nall_dropped.head()",
      "execution_count": 52,
      "outputs": [
        {
          "output_type": "execute_result",
          "execution_count": 52,
          "data": {
            "text/plain": "   productid       ...        soldquantity^3\n0         50       ...               17576.0\n1         65       ...                   8.0\n2         67       ...                1331.0\n3         77       ...               29791.0\n4         90       ...                1728.0\n\n[5 rows x 21 columns]",
            "text/html": "<div>\n<style scoped>\n    .dataframe tbody tr th:only-of-type {\n        vertical-align: middle;\n    }\n\n    .dataframe tbody tr th {\n        vertical-align: top;\n    }\n\n    .dataframe thead th {\n        text-align: right;\n    }\n</style>\n<table border=\"1\" class=\"dataframe\">\n  <thead>\n    <tr style=\"text-align: right;\">\n      <th></th>\n      <th>productid</th>\n      <th>clickcount</th>\n      <th>favoredcount</th>\n      <th>soldquantity</th>\n      <th>heat</th>\n      <th>clickcount^2</th>\n      <th>clickcount favoredcount</th>\n      <th>clickcount soldquantity</th>\n      <th>favoredcount^2</th>\n      <th>favoredcount soldquantity</th>\n      <th>soldquantity^2</th>\n      <th>clickcount^3</th>\n      <th>clickcount^2 favoredcount</th>\n      <th>clickcount^2 soldquantity</th>\n      <th>clickcount favoredcount^2</th>\n      <th>clickcount favoredcount soldquantity</th>\n      <th>clickcount soldquantity^2</th>\n      <th>favoredcount^3</th>\n      <th>favoredcount^2 soldquantity</th>\n      <th>favoredcount soldquantity^2</th>\n      <th>soldquantity^3</th>\n    </tr>\n  </thead>\n  <tbody>\n    <tr>\n      <th>0</th>\n      <td>50</td>\n      <td>8941.0</td>\n      <td>236.0</td>\n      <td>31</td>\n      <td>2.361905</td>\n      <td>65092624.0</td>\n      <td>1662008.0</td>\n      <td>209768.0</td>\n      <td>42436.0</td>\n      <td>5356.0</td>\n      <td>676.0</td>\n      <td>5.251673e+11</td>\n      <td>1.340908e+10</td>\n      <td>1.692408e+09</td>\n      <td>3.423736e+08</td>\n      <td>43212208.0</td>\n      <td>5453968.0</td>\n      <td>8741816.0</td>\n      <td>1103336.0</td>\n      <td>139256.0</td>\n      <td>17576.0</td>\n    </tr>\n    <tr>\n      <th>1</th>\n      <td>65</td>\n      <td>768.0</td>\n      <td>23.0</td>\n      <td>2</td>\n      <td>1.418182</td>\n      <td>555025.0</td>\n      <td>17135.0</td>\n      <td>1490.0</td>\n      <td>529.0</td>\n      <td>46.0</td>\n      <td>4.0</td>\n      <td>4.134936e+08</td>\n      <td>1.276558e+07</td>\n      <td>1.110050e+06</td>\n      <td>3.941050e+05</td>\n      <td>34270.0</td>\n      <td>2980.0</td>\n      <td>12167.0</td>\n      <td>1058.0</td>\n      <td>92.0</td>\n      <td>8.0</td>\n    </tr>\n    <tr>\n      <th>2</th>\n      <td>67</td>\n      <td>3277.0</td>\n      <td>98.0</td>\n      <td>14</td>\n      <td>1.856905</td>\n      <td>5827396.0</td>\n      <td>166566.0</td>\n      <td>26554.0</td>\n      <td>4761.0</td>\n      <td>759.0</td>\n      <td>121.0</td>\n      <td>1.406733e+10</td>\n      <td>4.020903e+08</td>\n      <td>6.410136e+07</td>\n      <td>1.149305e+07</td>\n      <td>1832226.0</td>\n      <td>292094.0</td>\n      <td>328509.0</td>\n      <td>52371.0</td>\n      <td>8349.0</td>\n      <td>1331.0</td>\n    </tr>\n    <tr>\n      <th>3</th>\n      <td>77</td>\n      <td>23309.0</td>\n      <td>219.0</td>\n      <td>32</td>\n      <td>0.196319</td>\n      <td>528264256.0</td>\n      <td>4918576.0</td>\n      <td>712504.0</td>\n      <td>45796.0</td>\n      <td>6634.0</td>\n      <td>961.0</td>\n      <td>1.214163e+13</td>\n      <td>1.130486e+11</td>\n      <td>1.637619e+10</td>\n      <td>1.052575e+09</td>\n      <td>152475856.0</td>\n      <td>22087624.0</td>\n      <td>9800344.0</td>\n      <td>1419676.0</td>\n      <td>205654.0</td>\n      <td>29791.0</td>\n    </tr>\n    <tr>\n      <th>4</th>\n      <td>90</td>\n      <td>8169.0</td>\n      <td>56.0</td>\n      <td>12</td>\n      <td>0.941176</td>\n      <td>55815841.0</td>\n      <td>366079.0</td>\n      <td>89652.0</td>\n      <td>2401.0</td>\n      <td>588.0</td>\n      <td>144.0</td>\n      <td>4.170001e+11</td>\n      <td>2.734976e+09</td>\n      <td>6.697901e+08</td>\n      <td>1.793787e+07</td>\n      <td>4392948.0</td>\n      <td>1075824.0</td>\n      <td>117649.0</td>\n      <td>28812.0</td>\n      <td>7056.0</td>\n      <td>1728.0</td>\n    </tr>\n  </tbody>\n</table>\n</div>"
          },
          "metadata": {}
        }
      ]
    },
    {
      "metadata": {
        "_uuid": "73e1e6e9a65a967fbef47315ed5edf77d4ffa1f6"
      },
      "cell_type": "markdown",
      "source": "**--------------------TRAIN MODEL------------------------**\n> \n*train data X : train_X_poly*\n>\n*train data Y : train_y*\n>\n*test data X : test_X_poly*\n>\n*test data Y : test_y*\n> \n"
    },
    {
      "metadata": {
        "trusted": true,
        "_uuid": "d3d1aac5e631843f43501f47cb5c1ef7fd69d350"
      },
      "cell_type": "code",
      "source": "train_X_poly = train_X_poly.drop('productid',axis=1)\ntest_X_poly = test_X_poly.drop('productid',axis=1)\nall_dropped = all_dropped.drop('productid',axis=1)",
      "execution_count": 53,
      "outputs": []
    },
    {
      "metadata": {
        "trusted": true,
        "_uuid": "5b1d11c2c4d48ec649255040abc4290e57358549"
      },
      "cell_type": "code",
      "source": "import sklearn as sk\nfrom sklearn.preprocessing import StandardScaler\nscaler = StandardScaler()\nstandarized_train = scaler.fit(train_X_poly).transform(train_X_poly)\nstandarized_train\n",
      "execution_count": 54,
      "outputs": [
        {
          "output_type": "stream",
          "text": "/opt/conda/lib/python3.6/site-packages/sklearn/preprocessing/data.py:625: DataConversionWarning: Data with input dtype int64, float64 were all converted to float64 by StandardScaler.\n  return self.partial_fit(X, y)\n/opt/conda/lib/python3.6/site-packages/ipykernel_launcher.py:4: DataConversionWarning: Data with input dtype int64, float64 were all converted to float64 by StandardScaler.\n  after removing the cwd from sys.path.\n",
          "name": "stderr"
        },
        {
          "output_type": "execute_result",
          "execution_count": 54,
          "data": {
            "text/plain": "array([[-0.2758396 , -0.27438652, -0.22478795, ..., -0.01200808,\n        -0.00833949, -0.00784162],\n       [-0.304292  , -0.27438652, -0.24985267, ..., -0.01200808,\n        -0.00833949, -0.00784163],\n       [-0.30192097, -0.27438652, -0.23732031, ..., -0.01200808,\n        -0.00833949, -0.00784163],\n       ...,\n       [-0.30558529, -0.27438652, -0.14959378, ..., -0.01200808,\n        -0.00833949, -0.00784122],\n       [-0.30558529, -0.27438652, -0.22478795, ..., -0.01200808,\n        -0.00833949, -0.00784162],\n       [-0.30558529, -0.27438652, -0.09946434, ..., -0.01200808,\n        -0.00833949, -0.0078404 ]])"
          },
          "metadata": {}
        }
      ]
    },
    {
      "metadata": {
        "trusted": true,
        "_uuid": "e4b3985364663c87db179888caf5e69f4e90b61a"
      },
      "cell_type": "code",
      "source": "stand_test = scaler.transform(test_X_poly)\nstand_test",
      "execution_count": 55,
      "outputs": [
        {
          "output_type": "stream",
          "text": "/opt/conda/lib/python3.6/site-packages/ipykernel_launcher.py:1: DataConversionWarning: Data with input dtype int64, float64 were all converted to float64 by StandardScaler.\n  \"\"\"Entry point for launching an IPython kernel.\n",
          "name": "stderr"
        },
        {
          "output_type": "execute_result",
          "execution_count": 55,
          "data": {
            "text/plain": "array([[-0.2758396 , -0.27438652, -0.22478795, ..., -0.01200808,\n        -0.00833949, -0.00784162],\n       [-0.304292  , -0.27438652, -0.24985267, ..., -0.01200808,\n        -0.00833949, -0.00784163],\n       [-0.30192097, -0.27438652, -0.23732031, ..., -0.01200808,\n        -0.00833949, -0.00784163],\n       ...,\n       [-0.30558529, -0.27438652, -0.14959378, ..., -0.01200808,\n        -0.00833949, -0.00784122],\n       [-0.30558529, -0.27438652, -0.22478795, ..., -0.01200808,\n        -0.00833949, -0.00784162],\n       [-0.30558529, -0.27438652, -0.09946434, ..., -0.01200808,\n        -0.00833949, -0.0078404 ]])"
          },
          "metadata": {}
        }
      ]
    },
    {
      "metadata": {
        "trusted": true,
        "_uuid": "3fb3b7006e93dc584858a172d051ffc26e5cb22e"
      },
      "cell_type": "code",
      "source": "all_dropped = all_dropped.fillna(0)\nall_scale = scaler.transform(all_dropped)\nall_scale",
      "execution_count": 69,
      "outputs": [
        {
          "output_type": "stream",
          "text": "/opt/conda/lib/python3.6/site-packages/ipykernel_launcher.py:2: DataConversionWarning: Data with input dtype int64, float64 were all converted to float64 by StandardScaler.\n  \n",
          "name": "stderr"
        },
        {
          "output_type": "execute_result",
          "execution_count": 69,
          "data": {
            "text/plain": "array([[ 0.65802435,  0.74036869,  0.12611816, ..., -0.01175757,\n        -0.0082875 , -0.00783176],\n       [-0.22281466, -0.17549089, -0.23732031, ..., -0.01200784,\n        -0.00833945, -0.00784163],\n       [ 0.04759095,  0.14699488, -0.08693198, ..., -0.01199619,\n        -0.00833637, -0.00784088],\n       ...,\n       [-0.29599339, -0.2657869 , -0.22478795, ..., -0.01200808,\n        -0.00833949, -0.00784163],\n       [-0.29890329, -0.26148709, -0.24985267, ..., -0.01200808,\n        -0.00833949, -0.00784163],\n       [-0.22906557, -0.20988937, -0.19972323, ..., -0.01200808,\n        -0.00833949, -0.00784163]])"
          },
          "metadata": {}
        }
      ]
    },
    {
      "metadata": {
        "_uuid": "172dec5bbe4156a2e2f0202bb75acb62fb54b230"
      },
      "cell_type": "markdown",
      "source": "**-------LINEAR REGRESSION----------**"
    },
    {
      "metadata": {
        "trusted": true,
        "_uuid": "924db06c7126d253834882ac1735525af19febde"
      },
      "cell_type": "code",
      "source": "from sklearn.linear_model import LinearRegression\nfrom sklearn.metrics import mean_squared_error, r2_score\nlin_reg = LinearRegression().fit(standarized_train,train_y)\nlin_reg_pred = lin_reg.predict(stand_test)\nlin_reg_self = lin_reg.predict(standarized_train)\nprint(\"Mean squared error: %.2f\" % mean_squared_error(train_y, lin_reg_self))\nprint(\"Varinace score: %.2f\" % r2_score(train_y,lin_reg_self)) # max 1",
      "execution_count": 57,
      "outputs": [
        {
          "output_type": "stream",
          "text": "Mean squared error: 18.34\nVarinace score: 0.34\n",
          "name": "stdout"
        }
      ]
    },
    {
      "metadata": {
        "trusted": true,
        "_uuid": "233f9d32019183e8d7a16046f6aea1ceabb18e34"
      },
      "cell_type": "code",
      "source": "print(\"Mean squared error: %.2f\" % mean_squared_error(test_y, lin_reg_pred))\nprint(\"Varinace score: %.2f\" % r2_score(test_y,lin_reg_pred))",
      "execution_count": 58,
      "outputs": [
        {
          "output_type": "stream",
          "text": "Mean squared error: 42.46\nVarinace score: 0.34\n",
          "name": "stdout"
        }
      ]
    },
    {
      "metadata": {
        "_uuid": "f1d6273f157beff3e002c71bc36d6dc5aa2ca203"
      },
      "cell_type": "markdown",
      "source": "**------------------Ridge REGRESSOR------------**"
    },
    {
      "metadata": {
        "trusted": true,
        "_uuid": "461e2eeb75284768358ce1182de8962812d3ef74"
      },
      "cell_type": "code",
      "source": "from sklearn.linear_model import Ridge\nrdg = Ridge(alpha = 0.3).fit(standarized_train, train_y)\nrdg_train = rdg.predict(standarized_train)\nrdg_test = rdg.predict(stand_test)\nprint(\"Mean squared error: %.2f\" % mean_squared_error(train_y, rdg_train))\nprint(\"Varinace score: %.2f\" % r2_score(train_y,rdg_train)) # max 1",
      "execution_count": 59,
      "outputs": [
        {
          "output_type": "stream",
          "text": "Mean squared error: 18.34\nVarinace score: 0.34\n",
          "name": "stdout"
        }
      ]
    },
    {
      "metadata": {
        "trusted": true,
        "_uuid": "df6a765b7e490d1729798e3ad1a7cab0c1bb6c00"
      },
      "cell_type": "code",
      "source": "print(\"Mean squared error: %.2f\" % mean_squared_error(test_y, rdg_test))\nprint(\"Varinace score: %.2f\" % r2_score(test_y,rdg_test))",
      "execution_count": 60,
      "outputs": [
        {
          "output_type": "stream",
          "text": "Mean squared error: 42.46\nVarinace score: 0.34\n",
          "name": "stdout"
        }
      ]
    },
    {
      "metadata": {
        "trusted": true,
        "_uuid": "c4ca2ad8c5c30609d97695bd8cded1f975efed5d"
      },
      "cell_type": "markdown",
      "source": "**------------------submission-------------------------**"
    },
    {
      "metadata": {
        "trusted": true,
        "_uuid": "61f330b70008a750062ae8a7c1a9eaf12beed035"
      },
      "cell_type": "code",
      "source": "lin_reg_all = lin_reg.predict(all_scale)\nprint(lin_reg_all.shape)\nprint(submission.shape)",
      "execution_count": 70,
      "outputs": [
        {
          "output_type": "stream",
          "text": "(12810,)\n(12810, 2)\n",
          "name": "stdout"
        }
      ]
    },
    {
      "metadata": {
        "trusted": true,
        "_uuid": "d0e41492be3d76304b25839a6cea1f42258784cc"
      },
      "cell_type": "code",
      "source": "submission['sales'] = lin_reg_all\nsubmission.head()",
      "execution_count": 71,
      "outputs": [
        {
          "output_type": "execute_result",
          "execution_count": 71,
          "data": {
            "text/plain": "   productid     sales\n0         50  2.180256\n1         65  0.421424\n2         67  1.075845\n3         77  1.589145\n4         90  0.841049",
            "text/html": "<div>\n<style scoped>\n    .dataframe tbody tr th:only-of-type {\n        vertical-align: middle;\n    }\n\n    .dataframe tbody tr th {\n        vertical-align: top;\n    }\n\n    .dataframe thead th {\n        text-align: right;\n    }\n</style>\n<table border=\"1\" class=\"dataframe\">\n  <thead>\n    <tr style=\"text-align: right;\">\n      <th></th>\n      <th>productid</th>\n      <th>sales</th>\n    </tr>\n  </thead>\n  <tbody>\n    <tr>\n      <th>0</th>\n      <td>50</td>\n      <td>2.180256</td>\n    </tr>\n    <tr>\n      <th>1</th>\n      <td>65</td>\n      <td>0.421424</td>\n    </tr>\n    <tr>\n      <th>2</th>\n      <td>67</td>\n      <td>1.075845</td>\n    </tr>\n    <tr>\n      <th>3</th>\n      <td>77</td>\n      <td>1.589145</td>\n    </tr>\n    <tr>\n      <th>4</th>\n      <td>90</td>\n      <td>0.841049</td>\n    </tr>\n  </tbody>\n</table>\n</div>"
          },
          "metadata": {}
        }
      ]
    }
  ],
  "metadata": {
    "kernelspec": {
      "display_name": "Python 3",
      "language": "python",
      "name": "python3"
    },
    "language_info": {
      "name": "python",
      "version": "3.6.6",
      "mimetype": "text/x-python",
      "codemirror_mode": {
        "name": "ipython",
        "version": 3
      },
      "pygments_lexer": "ipython3",
      "nbconvert_exporter": "python",
      "file_extension": ".py"
    }
  },
  "nbformat": 4,
  "nbformat_minor": 1
}